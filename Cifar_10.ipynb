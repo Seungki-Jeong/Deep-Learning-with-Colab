{
  "nbformat": 4,
  "nbformat_minor": 0,
  "metadata": {
    "colab": {
      "name": "Cifar_10",
      "provenance": [],
      "authorship_tag": "ABX9TyNQ9/6DBPPozmt1fWbYpoG4",
      "include_colab_link": true
    },
    "kernelspec": {
      "name": "python3",
      "display_name": "Python 3"
    },
    "accelerator": "GPU"
  },
  "cells": [
    {
      "cell_type": "markdown",
      "metadata": {
        "id": "view-in-github",
        "colab_type": "text"
      },
      "source": [
        "<a href=\"https://colab.research.google.com/github/Seungki-Jeong/Deep-Learning-with-Colab/blob/master/Cifar_10.ipynb\" target=\"_parent\"><img src=\"https://colab.research.google.com/assets/colab-badge.svg\" alt=\"Open In Colab\"/></a>"
      ]
    },
    {
      "cell_type": "code",
      "metadata": {
        "id": "ZMoe4wt18RMQ",
        "colab_type": "code",
        "colab": {
          "base_uri": "https://localhost:8080/",
          "height": 35
        },
        "outputId": "f4c2ec5e-4c0a-491f-f44e-5f0d94aaee2d"
      },
      "source": [
        "%tensorflow_version 2.x\n",
        "import tensorflow as tf\n",
        "device_name = tf.test.gpu_device_name()\n",
        "if device_name != '/device:GPU:0':\n",
        "  raise SystemError('GPU device not found')\n",
        "print('Found GPU at: {}'.format(device_name))"
      ],
      "execution_count": 3,
      "outputs": [
        {
          "output_type": "stream",
          "text": [
            "Found GPU at: /device:GPU:0\n"
          ],
          "name": "stdout"
        }
      ]
    },
    {
      "cell_type": "code",
      "metadata": {
        "id": "UH-9HxXm8anm",
        "colab_type": "code",
        "colab": {}
      },
      "source": [
        "!mkdir model"
      ],
      "execution_count": 4,
      "outputs": []
    },
    {
      "cell_type": "code",
      "metadata": {
        "id": "Hs4oS6xo8pCN",
        "colab_type": "code",
        "colab": {
          "base_uri": "https://localhost:8080/",
          "height": 71
        },
        "outputId": "2e76412b-7ca6-425e-a48b-856b26f63f4a"
      },
      "source": [
        "!ls -l"
      ],
      "execution_count": 5,
      "outputs": [
        {
          "output_type": "stream",
          "text": [
            "total 8\n",
            "drwxr-xr-x 2 root root 4096 Jul  7 07:03 model\n",
            "drwxr-xr-x 1 root root 4096 Jun 26 16:26 sample_data\n"
          ],
          "name": "stdout"
        }
      ]
    },
    {
      "cell_type": "code",
      "metadata": {
        "id": "pGqURKa68qVV",
        "colab_type": "code",
        "colab": {
          "base_uri": "https://localhost:8080/",
          "height": 125
        },
        "outputId": "ce67587c-20f0-4f1b-973b-1cd5db7ebc99"
      },
      "source": [
        "import tensorflow as tf\n",
        "from tensorflow import keras\n",
        "from tensorflow.keras.datasets import cifar10\n",
        "\n",
        "(X_train, y_train0), (X_test, y_test0) = cifar10.load_data()\n",
        "print(X_train.shape, X_train.dtype)\n",
        "print(y_train0.shape, y_train0.dtype)\n",
        "print(X_test.shape, X_test.dtype)\n",
        "print(y_test0.shape, y_test0.dtype)"
      ],
      "execution_count": 6,
      "outputs": [
        {
          "output_type": "stream",
          "text": [
            "Downloading data from https://www.cs.toronto.edu/~kriz/cifar-10-python.tar.gz\n",
            "170500096/170498071 [==============================] - 6s 0us/step\n",
            "(50000, 32, 32, 3) uint8\n",
            "(50000, 1) uint8\n",
            "(10000, 32, 32, 3) uint8\n",
            "(10000, 1) uint8\n"
          ],
          "name": "stdout"
        }
      ]
    },
    {
      "cell_type": "code",
      "metadata": {
        "id": "CD00eFrq8yT1",
        "colab_type": "code",
        "colab": {}
      },
      "source": [
        "import numpy as np"
      ],
      "execution_count": 7,
      "outputs": []
    },
    {
      "cell_type": "code",
      "metadata": {
        "id": "PoikDO6Y87it",
        "colab_type": "code",
        "colab": {}
      },
      "source": [
        "seed = 2020\n",
        "np.random.seed(seed)\n",
        "tf.random.set_seed(seed)"
      ],
      "execution_count": 8,
      "outputs": []
    },
    {
      "cell_type": "code",
      "metadata": {
        "id": "h8ytRocX88R8",
        "colab_type": "code",
        "colab": {
          "base_uri": "https://localhost:8080/",
          "height": 35
        },
        "outputId": "9399dcd4-636a-4f17-f702-9083944a67db"
      },
      "source": [
        "X_train = X_train.astype('float32')/255.0\n",
        "X_test = X_test.astype('float32')/255.0\n",
        "\n",
        "print(X_train.shape, X_train.dtype)"
      ],
      "execution_count": 9,
      "outputs": [
        {
          "output_type": "stream",
          "text": [
            "(50000, 32, 32, 3) float32\n"
          ],
          "name": "stdout"
        }
      ]
    },
    {
      "cell_type": "code",
      "metadata": {
        "id": "QSugrPrK895l",
        "colab_type": "code",
        "colab": {
          "base_uri": "https://localhost:8080/",
          "height": 89
        },
        "outputId": "dbd8342b-8263-40c0-f780-fb50fe222316"
      },
      "source": [
        "Y_train = tf.keras.utils.to_categorical(y_train0, 10)\n",
        "Y_test = tf.keras.utils.to_categorical(y_test0, 10)\n",
        "Y_train[:4]"
      ],
      "execution_count": 10,
      "outputs": [
        {
          "output_type": "execute_result",
          "data": {
            "text/plain": [
              "array([[0., 0., 0., 0., 0., 0., 1., 0., 0., 0.],\n",
              "       [0., 0., 0., 0., 0., 0., 0., 0., 0., 1.],\n",
              "       [0., 0., 0., 0., 0., 0., 0., 0., 0., 1.],\n",
              "       [0., 0., 0., 0., 1., 0., 0., 0., 0., 0.]], dtype=float32)"
            ]
          },
          "metadata": {
            "tags": []
          },
          "execution_count": 10
        }
      ]
    },
    {
      "cell_type": "code",
      "metadata": {
        "id": "0lP3wG_s8_7k",
        "colab_type": "code",
        "colab": {}
      },
      "source": [
        "from keras.models import Sequential\n",
        "from keras.layers import Conv2D, MaxPooling2D, Flatten, Dense, Dropout\n",
        "from keras.layers import Activation, BatchNormalization\n",
        "from keras.regularizers import l2\n",
        "import numpy as np"
      ],
      "execution_count": 11,
      "outputs": []
    },
    {
      "cell_type": "code",
      "metadata": {
        "id": "57bv4-Ry9hVl",
        "colab_type": "code",
        "colab": {}
      },
      "source": [
        "np.random.seed(0)\n",
        "weight_decay = 1e-6"
      ],
      "execution_count": 12,
      "outputs": []
    },
    {
      "cell_type": "code",
      "metadata": {
        "id": "RV1AS1_29jgu",
        "colab_type": "code",
        "colab": {
          "base_uri": "https://localhost:8080/",
          "height": 1000
        },
        "outputId": "d136e1c8-0fbc-4e04-e12b-14b5147f4f0b"
      },
      "source": [
        "model = Sequential()\n",
        "\n",
        "model.add(Conv2D(32, (3,3), padding='same', kernel_regularizer=l2(weight_decay), \n",
        "                 input_shape=X_train.shape[1:]))\n",
        "model.add(Activation('elu'))\n",
        "model.add(BatchNormalization())\n",
        "model.add(Conv2D(32, (3,3), padding='same', kernel_regularizer=l2(weight_decay)))\n",
        "model.add(Activation('elu'))\n",
        "model.add(BatchNormalization())\n",
        "model.add(MaxPooling2D(pool_size=(2,2)))\n",
        "model.add(Dropout(0.2))\n",
        " \n",
        "model.add(Conv2D(64, (3,3), padding='same', kernel_regularizer=l2(weight_decay)))\n",
        "model.add(Activation('elu'))\n",
        "model.add(BatchNormalization())\n",
        "model.add(Conv2D(64, (3,3), padding='same', kernel_regularizer=l2(weight_decay)))\n",
        "model.add(Activation('elu'))\n",
        "model.add(BatchNormalization())\n",
        "model.add(MaxPooling2D(pool_size=(2,2)))\n",
        "model.add(Dropout(0.3))\n",
        " \n",
        "model.add(Conv2D(128, (3,3), padding='same', kernel_regularizer=l2(weight_decay)))\n",
        "model.add(Activation('elu'))\n",
        "model.add(BatchNormalization())\n",
        "model.add(Conv2D(128, (3,3), padding='same', kernel_regularizer=l2(weight_decay)))\n",
        "model.add(Activation('elu'))\n",
        "model.add(BatchNormalization())\n",
        "model.add(MaxPooling2D(pool_size=(2,2)))\n",
        "model.add(Dropout(0.4))\n",
        " \n",
        "model.add(Flatten())\n",
        "model.add(Dense(10, activation='softmax'))\n",
        "\n",
        "model.summary()"
      ],
      "execution_count": 13,
      "outputs": [
        {
          "output_type": "stream",
          "text": [
            "Model: \"sequential_1\"\n",
            "_________________________________________________________________\n",
            "Layer (type)                 Output Shape              Param #   \n",
            "=================================================================\n",
            "conv2d_1 (Conv2D)            (None, 32, 32, 32)        896       \n",
            "_________________________________________________________________\n",
            "activation_1 (Activation)    (None, 32, 32, 32)        0         \n",
            "_________________________________________________________________\n",
            "batch_normalization_1 (Batch (None, 32, 32, 32)        128       \n",
            "_________________________________________________________________\n",
            "conv2d_2 (Conv2D)            (None, 32, 32, 32)        9248      \n",
            "_________________________________________________________________\n",
            "activation_2 (Activation)    (None, 32, 32, 32)        0         \n",
            "_________________________________________________________________\n",
            "batch_normalization_2 (Batch (None, 32, 32, 32)        128       \n",
            "_________________________________________________________________\n",
            "max_pooling2d_1 (MaxPooling2 (None, 16, 16, 32)        0         \n",
            "_________________________________________________________________\n",
            "dropout_1 (Dropout)          (None, 16, 16, 32)        0         \n",
            "_________________________________________________________________\n",
            "conv2d_3 (Conv2D)            (None, 16, 16, 64)        18496     \n",
            "_________________________________________________________________\n",
            "activation_3 (Activation)    (None, 16, 16, 64)        0         \n",
            "_________________________________________________________________\n",
            "batch_normalization_3 (Batch (None, 16, 16, 64)        256       \n",
            "_________________________________________________________________\n",
            "conv2d_4 (Conv2D)            (None, 16, 16, 64)        36928     \n",
            "_________________________________________________________________\n",
            "activation_4 (Activation)    (None, 16, 16, 64)        0         \n",
            "_________________________________________________________________\n",
            "batch_normalization_4 (Batch (None, 16, 16, 64)        256       \n",
            "_________________________________________________________________\n",
            "max_pooling2d_2 (MaxPooling2 (None, 8, 8, 64)          0         \n",
            "_________________________________________________________________\n",
            "dropout_2 (Dropout)          (None, 8, 8, 64)          0         \n",
            "_________________________________________________________________\n",
            "conv2d_5 (Conv2D)            (None, 8, 8, 128)         73856     \n",
            "_________________________________________________________________\n",
            "activation_5 (Activation)    (None, 8, 8, 128)         0         \n",
            "_________________________________________________________________\n",
            "batch_normalization_5 (Batch (None, 8, 8, 128)         512       \n",
            "_________________________________________________________________\n",
            "conv2d_6 (Conv2D)            (None, 8, 8, 128)         147584    \n",
            "_________________________________________________________________\n",
            "activation_6 (Activation)    (None, 8, 8, 128)         0         \n",
            "_________________________________________________________________\n",
            "batch_normalization_6 (Batch (None, 8, 8, 128)         512       \n",
            "_________________________________________________________________\n",
            "max_pooling2d_3 (MaxPooling2 (None, 4, 4, 128)         0         \n",
            "_________________________________________________________________\n",
            "dropout_3 (Dropout)          (None, 4, 4, 128)         0         \n",
            "_________________________________________________________________\n",
            "flatten_1 (Flatten)          (None, 2048)              0         \n",
            "_________________________________________________________________\n",
            "dense_1 (Dense)              (None, 10)                20490     \n",
            "=================================================================\n",
            "Total params: 309,290\n",
            "Trainable params: 308,394\n",
            "Non-trainable params: 896\n",
            "_________________________________________________________________\n"
          ],
          "name": "stdout"
        }
      ]
    },
    {
      "cell_type": "code",
      "metadata": {
        "id": "hPmOobbl9kmN",
        "colab_type": "code",
        "colab": {}
      },
      "source": [
        "from keras.optimizers import RMSprop\n",
        "\n",
        "model.compile(loss='categorical_crossentropy', \n",
        "              optimizer=RMSprop(lr=0.001, decay=weight_decay), \n",
        "              metrics=['accuracy'])"
      ],
      "execution_count": 14,
      "outputs": []
    },
    {
      "cell_type": "code",
      "metadata": {
        "id": "v9olfJ-K9pR1",
        "colab_type": "code",
        "colab": {}
      },
      "source": [
        "def lr_schedule(epoch):\n",
        "    lrate = 0.001\n",
        "    if epoch > 30:\n",
        "        lrate = 0.0005\n",
        "    if epoch > 40:\n",
        "        lrate = 0.0003\n",
        "    return lrate"
      ],
      "execution_count": 15,
      "outputs": []
    },
    {
      "cell_type": "code",
      "metadata": {
        "id": "TLb-fGLx9rwF",
        "colab_type": "code",
        "colab": {}
      },
      "source": [
        "from keras.callbacks import ModelCheckpoint, EarlyStopping"
      ],
      "execution_count": 16,
      "outputs": []
    },
    {
      "cell_type": "code",
      "metadata": {
        "id": "aCjmIey69wjc",
        "colab_type": "code",
        "colab": {}
      },
      "source": [
        "modelpath = \"model/dogs_vs_cats-cnn-{epoch:02d}-{val_loss:.4f}.hdf5\"\n",
        "checkpointer = ModelCheckpoint(filepath=modelpath, monitor='val_loss', verbose=1, save_best_only=True)\n",
        "early_stopping_callback = EarlyStopping(monitor='val_loss', patience=20)"
      ],
      "execution_count": 17,
      "outputs": []
    },
    {
      "cell_type": "code",
      "metadata": {
        "id": "QXrzTGhg9xx0",
        "colab_type": "code",
        "colab": {}
      },
      "source": [
        "from keras.preprocessing.image import ImageDataGenerator"
      ],
      "execution_count": 18,
      "outputs": []
    },
    {
      "cell_type": "code",
      "metadata": {
        "id": "usRrvN6k92Ts",
        "colab_type": "code",
        "colab": {}
      },
      "source": [
        "datagen = ImageDataGenerator(\n",
        "    rotation_range=15,\n",
        "    width_shift_range=0.1,\n",
        "    height_shift_range=0.1,\n",
        "    horizontal_flip=True,\n",
        "    )\n",
        "datagen.fit(X_train)"
      ],
      "execution_count": 19,
      "outputs": []
    },
    {
      "cell_type": "code",
      "metadata": {
        "id": "KX0o7ktU94DC",
        "colab_type": "code",
        "colab": {
          "base_uri": "https://localhost:8080/",
          "height": 1000
        },
        "outputId": "2396fbb1-48db-4150-83ca-225f4fc1832d"
      },
      "source": [
        "from keras.callbacks import LearningRateScheduler\n",
        "history = model.fit_generator(datagen.flow(X_train, Y_train, batch_size=64),\n",
        "                    steps_per_epoch=X_train.shape[0] // 64, epochs=300,\n",
        "                    verbose=1, validation_data=(X_test, Y_test),\n",
        "                    callbacks=[LearningRateScheduler(lr_schedule), checkpointer, early_stopping_callback])"
      ],
      "execution_count": 20,
      "outputs": [
        {
          "output_type": "stream",
          "text": [
            "Epoch 1/300\n",
            "781/781 [==============================] - 56s 71ms/step - loss: 1.9101 - accuracy: 0.4016 - val_loss: 1.2819 - val_accuracy: 0.5709\n",
            "\n",
            "Epoch 00001: val_loss improved from inf to 1.28194, saving model to model/dogs_vs_cats-cnn-01-1.2819.hdf5\n",
            "Epoch 2/300\n",
            "781/781 [==============================] - 49s 62ms/step - loss: 1.2381 - accuracy: 0.5730 - val_loss: 0.9595 - val_accuracy: 0.6781\n",
            "\n",
            "Epoch 00002: val_loss improved from 1.28194 to 0.95948, saving model to model/dogs_vs_cats-cnn-02-0.9595.hdf5\n",
            "Epoch 3/300\n",
            "781/781 [==============================] - 49s 62ms/step - loss: 1.0254 - accuracy: 0.6442 - val_loss: 1.0363 - val_accuracy: 0.6736\n",
            "\n",
            "Epoch 00003: val_loss did not improve from 0.95948\n",
            "Epoch 4/300\n",
            "781/781 [==============================] - 48s 62ms/step - loss: 0.9057 - accuracy: 0.6836 - val_loss: 1.1022 - val_accuracy: 0.6683\n",
            "\n",
            "Epoch 00004: val_loss did not improve from 0.95948\n",
            "Epoch 5/300\n",
            "781/781 [==============================] - 47s 61ms/step - loss: 0.8296 - accuracy: 0.7111 - val_loss: 0.7701 - val_accuracy: 0.7434\n",
            "\n",
            "Epoch 00005: val_loss improved from 0.95948 to 0.77010, saving model to model/dogs_vs_cats-cnn-05-0.7701.hdf5\n",
            "Epoch 6/300\n",
            "781/781 [==============================] - 47s 60ms/step - loss: 0.7640 - accuracy: 0.7344 - val_loss: 0.7240 - val_accuracy: 0.7550\n",
            "\n",
            "Epoch 00006: val_loss improved from 0.77010 to 0.72399, saving model to model/dogs_vs_cats-cnn-06-0.7240.hdf5\n",
            "Epoch 7/300\n",
            "781/781 [==============================] - 48s 61ms/step - loss: 0.7217 - accuracy: 0.7496 - val_loss: 0.9178 - val_accuracy: 0.7128\n",
            "\n",
            "Epoch 00007: val_loss did not improve from 0.72399\n",
            "Epoch 8/300\n",
            "781/781 [==============================] - 48s 61ms/step - loss: 0.6886 - accuracy: 0.7634 - val_loss: 0.7423 - val_accuracy: 0.7580\n",
            "\n",
            "Epoch 00008: val_loss did not improve from 0.72399\n",
            "Epoch 9/300\n",
            "781/781 [==============================] - 47s 61ms/step - loss: 0.6600 - accuracy: 0.7712 - val_loss: 0.6282 - val_accuracy: 0.7873\n",
            "\n",
            "Epoch 00009: val_loss improved from 0.72399 to 0.62824, saving model to model/dogs_vs_cats-cnn-09-0.6282.hdf5\n",
            "Epoch 10/300\n",
            "781/781 [==============================] - 47s 60ms/step - loss: 0.6361 - accuracy: 0.7810 - val_loss: 0.5926 - val_accuracy: 0.7961\n",
            "\n",
            "Epoch 00010: val_loss improved from 0.62824 to 0.59257, saving model to model/dogs_vs_cats-cnn-10-0.5926.hdf5\n",
            "Epoch 11/300\n",
            "781/781 [==============================] - 47s 60ms/step - loss: 0.6200 - accuracy: 0.7867 - val_loss: 0.5927 - val_accuracy: 0.8035\n",
            "\n",
            "Epoch 00011: val_loss did not improve from 0.59257\n",
            "Epoch 12/300\n",
            "781/781 [==============================] - 47s 60ms/step - loss: 0.6009 - accuracy: 0.7924 - val_loss: 0.5997 - val_accuracy: 0.7990\n",
            "\n",
            "Epoch 00012: val_loss did not improve from 0.59257\n",
            "Epoch 13/300\n",
            "781/781 [==============================] - 47s 60ms/step - loss: 0.5841 - accuracy: 0.7965 - val_loss: 0.6708 - val_accuracy: 0.7884\n",
            "\n",
            "Epoch 00013: val_loss did not improve from 0.59257\n",
            "Epoch 14/300\n",
            "781/781 [==============================] - 47s 61ms/step - loss: 0.5689 - accuracy: 0.8028 - val_loss: 0.6125 - val_accuracy: 0.8014\n",
            "\n",
            "Epoch 00014: val_loss did not improve from 0.59257\n",
            "Epoch 15/300\n",
            "781/781 [==============================] - 47s 60ms/step - loss: 0.5634 - accuracy: 0.8065 - val_loss: 0.6393 - val_accuracy: 0.7925\n",
            "\n",
            "Epoch 00015: val_loss did not improve from 0.59257\n",
            "Epoch 16/300\n",
            "781/781 [==============================] - 47s 60ms/step - loss: 0.5452 - accuracy: 0.8110 - val_loss: 0.5012 - val_accuracy: 0.8314\n",
            "\n",
            "Epoch 00016: val_loss improved from 0.59257 to 0.50118, saving model to model/dogs_vs_cats-cnn-16-0.5012.hdf5\n",
            "Epoch 17/300\n",
            "781/781 [==============================] - 51s 65ms/step - loss: 0.5415 - accuracy: 0.8148 - val_loss: 0.5154 - val_accuracy: 0.8289\n",
            "\n",
            "Epoch 00017: val_loss did not improve from 0.50118\n",
            "Epoch 18/300\n",
            "781/781 [==============================] - 47s 60ms/step - loss: 0.5264 - accuracy: 0.8195 - val_loss: 0.5406 - val_accuracy: 0.8227\n",
            "\n",
            "Epoch 00018: val_loss did not improve from 0.50118\n",
            "Epoch 19/300\n",
            "781/781 [==============================] - 50s 64ms/step - loss: 0.5209 - accuracy: 0.8197 - val_loss: 0.5748 - val_accuracy: 0.8091\n",
            "\n",
            "Epoch 00019: val_loss did not improve from 0.50118\n",
            "Epoch 20/300\n",
            "781/781 [==============================] - 47s 60ms/step - loss: 0.5051 - accuracy: 0.8262 - val_loss: 0.5051 - val_accuracy: 0.8340\n",
            "\n",
            "Epoch 00020: val_loss did not improve from 0.50118\n",
            "Epoch 21/300\n",
            "781/781 [==============================] - 47s 60ms/step - loss: 0.5063 - accuracy: 0.8266 - val_loss: 0.5270 - val_accuracy: 0.8263\n",
            "\n",
            "Epoch 00021: val_loss did not improve from 0.50118\n",
            "Epoch 22/300\n",
            "781/781 [==============================] - 47s 60ms/step - loss: 0.4996 - accuracy: 0.8289 - val_loss: 0.5454 - val_accuracy: 0.8208\n",
            "\n",
            "Epoch 00022: val_loss did not improve from 0.50118\n",
            "Epoch 23/300\n",
            "781/781 [==============================] - 47s 60ms/step - loss: 0.4888 - accuracy: 0.8329 - val_loss: 0.4539 - val_accuracy: 0.8516\n",
            "\n",
            "Epoch 00023: val_loss improved from 0.50118 to 0.45389, saving model to model/dogs_vs_cats-cnn-23-0.4539.hdf5\n",
            "Epoch 24/300\n",
            "781/781 [==============================] - 47s 61ms/step - loss: 0.4896 - accuracy: 0.8323 - val_loss: 0.4568 - val_accuracy: 0.8493\n",
            "\n",
            "Epoch 00024: val_loss did not improve from 0.45389\n",
            "Epoch 25/300\n",
            "781/781 [==============================] - 47s 60ms/step - loss: 0.4808 - accuracy: 0.8352 - val_loss: 0.5569 - val_accuracy: 0.8225\n",
            "\n",
            "Epoch 00025: val_loss did not improve from 0.45389\n",
            "Epoch 26/300\n",
            "781/781 [==============================] - 47s 60ms/step - loss: 0.4788 - accuracy: 0.8384 - val_loss: 0.4253 - val_accuracy: 0.8580\n",
            "\n",
            "Epoch 00026: val_loss improved from 0.45389 to 0.42532, saving model to model/dogs_vs_cats-cnn-26-0.4253.hdf5\n",
            "Epoch 27/300\n",
            "781/781 [==============================] - 47s 60ms/step - loss: 0.4702 - accuracy: 0.8393 - val_loss: 0.4532 - val_accuracy: 0.8505\n",
            "\n",
            "Epoch 00027: val_loss did not improve from 0.42532\n",
            "Epoch 28/300\n",
            "781/781 [==============================] - 46s 59ms/step - loss: 0.4656 - accuracy: 0.8396 - val_loss: 0.5208 - val_accuracy: 0.8297\n",
            "\n",
            "Epoch 00028: val_loss did not improve from 0.42532\n",
            "Epoch 29/300\n",
            "781/781 [==============================] - 47s 60ms/step - loss: 0.4647 - accuracy: 0.8419 - val_loss: 0.4624 - val_accuracy: 0.8497\n",
            "\n",
            "Epoch 00029: val_loss did not improve from 0.42532\n",
            "Epoch 30/300\n",
            "781/781 [==============================] - 47s 60ms/step - loss: 0.4567 - accuracy: 0.8436 - val_loss: 0.4697 - val_accuracy: 0.8466\n",
            "\n",
            "Epoch 00030: val_loss did not improve from 0.42532\n",
            "Epoch 31/300\n",
            "781/781 [==============================] - 47s 60ms/step - loss: 0.4590 - accuracy: 0.8421 - val_loss: 0.4443 - val_accuracy: 0.8532\n",
            "\n",
            "Epoch 00031: val_loss did not improve from 0.42532\n",
            "Epoch 32/300\n",
            "781/781 [==============================] - 47s 60ms/step - loss: 0.4229 - accuracy: 0.8568 - val_loss: 0.4574 - val_accuracy: 0.8512\n",
            "\n",
            "Epoch 00032: val_loss did not improve from 0.42532\n",
            "Epoch 33/300\n",
            "781/781 [==============================] - 47s 60ms/step - loss: 0.4148 - accuracy: 0.8586 - val_loss: 0.4197 - val_accuracy: 0.8630\n",
            "\n",
            "Epoch 00033: val_loss improved from 0.42532 to 0.41975, saving model to model/dogs_vs_cats-cnn-33-0.4197.hdf5\n",
            "Epoch 34/300\n",
            "781/781 [==============================] - 48s 62ms/step - loss: 0.4065 - accuracy: 0.8618 - val_loss: 0.4254 - val_accuracy: 0.8609\n",
            "\n",
            "Epoch 00034: val_loss did not improve from 0.41975\n",
            "Epoch 35/300\n",
            "781/781 [==============================] - 48s 62ms/step - loss: 0.4054 - accuracy: 0.8615 - val_loss: 0.4012 - val_accuracy: 0.8674\n",
            "\n",
            "Epoch 00035: val_loss improved from 0.41975 to 0.40118, saving model to model/dogs_vs_cats-cnn-35-0.4012.hdf5\n",
            "Epoch 36/300\n",
            "781/781 [==============================] - 48s 61ms/step - loss: 0.4040 - accuracy: 0.8628 - val_loss: 0.4358 - val_accuracy: 0.8596\n",
            "\n",
            "Epoch 00036: val_loss did not improve from 0.40118\n",
            "Epoch 37/300\n",
            "781/781 [==============================] - 48s 61ms/step - loss: 0.3985 - accuracy: 0.8643 - val_loss: 0.4184 - val_accuracy: 0.8613\n",
            "\n",
            "Epoch 00037: val_loss did not improve from 0.40118\n",
            "Epoch 38/300\n",
            "781/781 [==============================] - 48s 61ms/step - loss: 0.3962 - accuracy: 0.8655 - val_loss: 0.4410 - val_accuracy: 0.8584\n",
            "\n",
            "Epoch 00038: val_loss did not improve from 0.40118\n",
            "Epoch 39/300\n",
            "781/781 [==============================] - 48s 61ms/step - loss: 0.3922 - accuracy: 0.8681 - val_loss: 0.4060 - val_accuracy: 0.8688\n",
            "\n",
            "Epoch 00039: val_loss did not improve from 0.40118\n",
            "Epoch 40/300\n",
            "781/781 [==============================] - 48s 61ms/step - loss: 0.3917 - accuracy: 0.8663 - val_loss: 0.4164 - val_accuracy: 0.8656\n",
            "\n",
            "Epoch 00040: val_loss did not improve from 0.40118\n",
            "Epoch 41/300\n",
            "781/781 [==============================] - 47s 60ms/step - loss: 0.3906 - accuracy: 0.8665 - val_loss: 0.4092 - val_accuracy: 0.8647\n",
            "\n",
            "Epoch 00041: val_loss did not improve from 0.40118\n",
            "Epoch 42/300\n",
            "781/781 [==============================] - 47s 60ms/step - loss: 0.3806 - accuracy: 0.8697 - val_loss: 0.4169 - val_accuracy: 0.8637\n",
            "\n",
            "Epoch 00042: val_loss did not improve from 0.40118\n",
            "Epoch 43/300\n",
            "781/781 [==============================] - 47s 60ms/step - loss: 0.3706 - accuracy: 0.8738 - val_loss: 0.4022 - val_accuracy: 0.8667\n",
            "\n",
            "Epoch 00043: val_loss did not improve from 0.40118\n",
            "Epoch 44/300\n",
            "781/781 [==============================] - 47s 60ms/step - loss: 0.3712 - accuracy: 0.8754 - val_loss: 0.3959 - val_accuracy: 0.8716\n",
            "\n",
            "Epoch 00044: val_loss improved from 0.40118 to 0.39593, saving model to model/dogs_vs_cats-cnn-44-0.3959.hdf5\n",
            "Epoch 45/300\n",
            "781/781 [==============================] - 46s 60ms/step - loss: 0.3666 - accuracy: 0.8758 - val_loss: 0.4230 - val_accuracy: 0.8649\n",
            "\n",
            "Epoch 00045: val_loss did not improve from 0.39593\n",
            "Epoch 46/300\n",
            "781/781 [==============================] - 46s 59ms/step - loss: 0.3643 - accuracy: 0.8753 - val_loss: 0.3992 - val_accuracy: 0.8705\n",
            "\n",
            "Epoch 00046: val_loss did not improve from 0.39593\n",
            "Epoch 47/300\n",
            "781/781 [==============================] - 48s 62ms/step - loss: 0.3646 - accuracy: 0.8752 - val_loss: 0.4269 - val_accuracy: 0.8632\n",
            "\n",
            "Epoch 00047: val_loss did not improve from 0.39593\n",
            "Epoch 48/300\n",
            "781/781 [==============================] - 48s 61ms/step - loss: 0.3650 - accuracy: 0.8749 - val_loss: 0.3960 - val_accuracy: 0.8706\n",
            "\n",
            "Epoch 00048: val_loss did not improve from 0.39593\n",
            "Epoch 49/300\n",
            "781/781 [==============================] - 48s 61ms/step - loss: 0.3611 - accuracy: 0.8771 - val_loss: 0.3992 - val_accuracy: 0.8711\n",
            "\n",
            "Epoch 00049: val_loss did not improve from 0.39593\n",
            "Epoch 50/300\n",
            "781/781 [==============================] - 47s 60ms/step - loss: 0.3586 - accuracy: 0.8783 - val_loss: 0.3747 - val_accuracy: 0.8810\n",
            "\n",
            "Epoch 00050: val_loss improved from 0.39593 to 0.37470, saving model to model/dogs_vs_cats-cnn-50-0.3747.hdf5\n",
            "Epoch 51/300\n",
            "781/781 [==============================] - 47s 60ms/step - loss: 0.3555 - accuracy: 0.8781 - val_loss: 0.4014 - val_accuracy: 0.8716\n",
            "\n",
            "Epoch 00051: val_loss did not improve from 0.37470\n",
            "Epoch 52/300\n",
            "781/781 [==============================] - 47s 60ms/step - loss: 0.3619 - accuracy: 0.8779 - val_loss: 0.3669 - val_accuracy: 0.8805\n",
            "\n",
            "Epoch 00052: val_loss improved from 0.37470 to 0.36693, saving model to model/dogs_vs_cats-cnn-52-0.3669.hdf5\n",
            "Epoch 53/300\n",
            "781/781 [==============================] - 47s 61ms/step - loss: 0.3591 - accuracy: 0.8767 - val_loss: 0.3787 - val_accuracy: 0.8762\n",
            "\n",
            "Epoch 00053: val_loss did not improve from 0.36693\n",
            "Epoch 54/300\n",
            "781/781 [==============================] - 47s 60ms/step - loss: 0.3583 - accuracy: 0.8775 - val_loss: 0.4022 - val_accuracy: 0.8717\n",
            "\n",
            "Epoch 00054: val_loss did not improve from 0.36693\n",
            "Epoch 55/300\n",
            "781/781 [==============================] - 47s 60ms/step - loss: 0.3542 - accuracy: 0.8796 - val_loss: 0.3950 - val_accuracy: 0.8734\n",
            "\n",
            "Epoch 00055: val_loss did not improve from 0.36693\n",
            "Epoch 56/300\n",
            "781/781 [==============================] - 46s 59ms/step - loss: 0.3531 - accuracy: 0.8789 - val_loss: 0.3853 - val_accuracy: 0.8784\n",
            "\n",
            "Epoch 00056: val_loss did not improve from 0.36693\n",
            "Epoch 57/300\n",
            "781/781 [==============================] - 46s 59ms/step - loss: 0.3520 - accuracy: 0.8795 - val_loss: 0.3951 - val_accuracy: 0.8722\n",
            "\n",
            "Epoch 00057: val_loss did not improve from 0.36693\n",
            "Epoch 58/300\n",
            "781/781 [==============================] - 47s 60ms/step - loss: 0.3547 - accuracy: 0.8782 - val_loss: 0.3572 - val_accuracy: 0.8828\n",
            "\n",
            "Epoch 00058: val_loss improved from 0.36693 to 0.35723, saving model to model/dogs_vs_cats-cnn-58-0.3572.hdf5\n",
            "Epoch 59/300\n",
            "781/781 [==============================] - 47s 60ms/step - loss: 0.3501 - accuracy: 0.8809 - val_loss: 0.3957 - val_accuracy: 0.8741\n",
            "\n",
            "Epoch 00059: val_loss did not improve from 0.35723\n",
            "Epoch 60/300\n",
            "781/781 [==============================] - 47s 60ms/step - loss: 0.3509 - accuracy: 0.8809 - val_loss: 0.3917 - val_accuracy: 0.8734\n",
            "\n",
            "Epoch 00060: val_loss did not improve from 0.35723\n",
            "Epoch 61/300\n",
            "781/781 [==============================] - 47s 60ms/step - loss: 0.3503 - accuracy: 0.8794 - val_loss: 0.3916 - val_accuracy: 0.8740\n",
            "\n",
            "Epoch 00061: val_loss did not improve from 0.35723\n",
            "Epoch 62/300\n",
            "781/781 [==============================] - 47s 60ms/step - loss: 0.3458 - accuracy: 0.8812 - val_loss: 0.3891 - val_accuracy: 0.8751\n",
            "\n",
            "Epoch 00062: val_loss did not improve from 0.35723\n",
            "Epoch 63/300\n",
            "781/781 [==============================] - 46s 59ms/step - loss: 0.3503 - accuracy: 0.8806 - val_loss: 0.4000 - val_accuracy: 0.8730\n",
            "\n",
            "Epoch 00063: val_loss did not improve from 0.35723\n",
            "Epoch 64/300\n",
            "781/781 [==============================] - 47s 60ms/step - loss: 0.3447 - accuracy: 0.8823 - val_loss: 0.3990 - val_accuracy: 0.8742\n",
            "\n",
            "Epoch 00064: val_loss did not improve from 0.35723\n",
            "Epoch 65/300\n",
            "781/781 [==============================] - 47s 60ms/step - loss: 0.3464 - accuracy: 0.8817 - val_loss: 0.3890 - val_accuracy: 0.8765\n",
            "\n",
            "Epoch 00065: val_loss did not improve from 0.35723\n",
            "Epoch 66/300\n",
            "781/781 [==============================] - 47s 60ms/step - loss: 0.3441 - accuracy: 0.8822 - val_loss: 0.4023 - val_accuracy: 0.8722\n",
            "\n",
            "Epoch 00066: val_loss did not improve from 0.35723\n",
            "Epoch 67/300\n",
            "781/781 [==============================] - 47s 60ms/step - loss: 0.3495 - accuracy: 0.8812 - val_loss: 0.4040 - val_accuracy: 0.8724\n",
            "\n",
            "Epoch 00067: val_loss did not improve from 0.35723\n",
            "Epoch 68/300\n",
            "781/781 [==============================] - 46s 59ms/step - loss: 0.3391 - accuracy: 0.8847 - val_loss: 0.3945 - val_accuracy: 0.8766\n",
            "\n",
            "Epoch 00068: val_loss did not improve from 0.35723\n",
            "Epoch 69/300\n",
            "781/781 [==============================] - 48s 61ms/step - loss: 0.3402 - accuracy: 0.8838 - val_loss: 0.4057 - val_accuracy: 0.8730\n",
            "\n",
            "Epoch 00069: val_loss did not improve from 0.35723\n",
            "Epoch 70/300\n",
            "781/781 [==============================] - 47s 61ms/step - loss: 0.3457 - accuracy: 0.8837 - val_loss: 0.4223 - val_accuracy: 0.8651\n",
            "\n",
            "Epoch 00070: val_loss did not improve from 0.35723\n",
            "Epoch 71/300\n",
            "781/781 [==============================] - 48s 61ms/step - loss: 0.3359 - accuracy: 0.8840 - val_loss: 0.3991 - val_accuracy: 0.8729\n",
            "\n",
            "Epoch 00071: val_loss did not improve from 0.35723\n",
            "Epoch 72/300\n",
            "781/781 [==============================] - 47s 61ms/step - loss: 0.3419 - accuracy: 0.8834 - val_loss: 0.4010 - val_accuracy: 0.8724\n",
            "\n",
            "Epoch 00072: val_loss did not improve from 0.35723\n",
            "Epoch 73/300\n",
            "781/781 [==============================] - 48s 61ms/step - loss: 0.3442 - accuracy: 0.8821 - val_loss: 0.4195 - val_accuracy: 0.8690\n",
            "\n",
            "Epoch 00073: val_loss did not improve from 0.35723\n",
            "Epoch 74/300\n",
            "781/781 [==============================] - 47s 60ms/step - loss: 0.3377 - accuracy: 0.8847 - val_loss: 0.3942 - val_accuracy: 0.8756\n",
            "\n",
            "Epoch 00074: val_loss did not improve from 0.35723\n",
            "Epoch 75/300\n",
            "781/781 [==============================] - 48s 61ms/step - loss: 0.3381 - accuracy: 0.8851 - val_loss: 0.4103 - val_accuracy: 0.8689\n",
            "\n",
            "Epoch 00075: val_loss did not improve from 0.35723\n",
            "Epoch 76/300\n",
            "781/781 [==============================] - 47s 60ms/step - loss: 0.3354 - accuracy: 0.8854 - val_loss: 0.3660 - val_accuracy: 0.8816\n",
            "\n",
            "Epoch 00076: val_loss did not improve from 0.35723\n",
            "Epoch 77/300\n",
            "781/781 [==============================] - 47s 61ms/step - loss: 0.3370 - accuracy: 0.8858 - val_loss: 0.3888 - val_accuracy: 0.8756\n",
            "\n",
            "Epoch 00077: val_loss did not improve from 0.35723\n",
            "Epoch 78/300\n",
            "781/781 [==============================] - 47s 60ms/step - loss: 0.3407 - accuracy: 0.8846 - val_loss: 0.4340 - val_accuracy: 0.8661\n",
            "\n",
            "Epoch 00078: val_loss did not improve from 0.35723\n"
          ],
          "name": "stdout"
        }
      ]
    },
    {
      "cell_type": "code",
      "metadata": {
        "id": "b0eGJcOCUz9M",
        "colab_type": "code",
        "colab": {}
      },
      "source": [
        "from tensorflow.keras.models import load_model\n",
        "model_1 = load_model('model/dogs_vs_cats-cnn-58-0.3572.hdf5')"
      ],
      "execution_count": 28,
      "outputs": []
    },
    {
      "cell_type": "code",
      "metadata": {
        "id": "SMGI6XCwU9SU",
        "colab_type": "code",
        "colab": {
          "base_uri": "https://localhost:8080/",
          "height": 71
        },
        "outputId": "91d92643-a605-4136-fea5-0627b80da900"
      },
      "source": [
        "scores = model_1.evaluate(X_test, Y_test, verbose=1)\n",
        "print('Test loss:', scores[0])\n",
        "print('Test accuracy:', scores[1])"
      ],
      "execution_count": 29,
      "outputs": [
        {
          "output_type": "stream",
          "text": [
            "313/313 [==============================] - 2s 8ms/step - loss: 0.3572 - accuracy: 0.8828\n",
            "Test loss: 0.35722947120666504\n",
            "Test accuracy: 0.8827999830245972\n"
          ],
          "name": "stdout"
        }
      ]
    },
    {
      "cell_type": "code",
      "metadata": {
        "id": "XWQ6rAwJULI_",
        "colab_type": "code",
        "colab": {}
      },
      "source": [
        "# 테스트셋\n",
        "y_vloss = history.history['val_loss']\n",
        "y_vacc = history.history['val_accuracy']\n",
        "# 학습셋\n",
        "y_loss = history.history['loss']\n",
        "y_acc = history.history['accuracy']"
      ],
      "execution_count": 22,
      "outputs": []
    },
    {
      "cell_type": "code",
      "metadata": {
        "id": "eCWH5vG_UWpW",
        "colab_type": "code",
        "colab": {}
      },
      "source": [
        "import matplotlib as mpl\n",
        "import matplotlib.pyplot as plt\n",
        "%matplotlib inline"
      ],
      "execution_count": 24,
      "outputs": []
    },
    {
      "cell_type": "code",
      "metadata": {
        "id": "h9tHVpO0URVt",
        "colab_type": "code",
        "colab": {
          "base_uri": "https://localhost:8080/",
          "height": 497
        },
        "outputId": "382b6ed0-946f-406f-fd2c-fbeda45a03df"
      },
      "source": [
        "# 그래프로 표현\n",
        "x_len = np.arange(1, len(y_loss)+1)\n",
        "fig, ax0 = plt.subplots(figsize=(10,8))\n",
        "ax1 = ax0.twinx()\n",
        "ax0.plot(x_len, y_loss, c=\"blue\", label='Trainset_loss')\n",
        "ax0.plot(x_len, y_vloss, c=\"red\", label='Testset_loss')\n",
        "ax0.set_ylabel('loss')\n",
        "ax1.plot(x_len, y_acc, c=\"darkgreen\", label='Trainset_acc')\n",
        "ax1.plot(x_len, y_vacc, c=\"magenta\", label='Testset_acc')\n",
        "ax1.set_ylabel('accuracy')\n",
        "ax0.set_xlabel('epoch')\n",
        "ax0.legend(loc='upper center')\n",
        "ax1.legend(loc='lower center')\n",
        "plt.show()"
      ],
      "execution_count": 25,
      "outputs": [
        {
          "output_type": "display_data",
          "data": {
            "image/png": "[encoded data removed]",
            "text/plain": [
              "<Figure size 720x576 with 2 Axes>"
            ]
          },
          "metadata": {
            "tags": [],
            "needs_background": "light"
          }
        }
      ]
    },
    {
      "cell_type": "code",
      "metadata": {
        "id": "rx8-pP65USmb",
        "colab_type": "code",
        "colab": {}
      },
      "source": [
        ""
      ],
      "execution_count": null,
      "outputs": []
    }
  ]
}