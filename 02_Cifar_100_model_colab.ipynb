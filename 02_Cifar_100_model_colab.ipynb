{
  "nbformat": 4,
  "nbformat_minor": 0,
  "metadata": {
    "colab": {
      "name": "02_Cifar_100_model_colab",
      "provenance": [],
      "authorship_tag": "ABX9TyNOSwOpG+H5eVQ7nmKhH+6o",
      "include_colab_link": true
    },
    "kernelspec": {
      "name": "python3",
      "display_name": "Python 3"
    },
    "accelerator": "GPU"
  },
  "cells": [
    {
      "cell_type": "markdown",
      "metadata": {
        "id": "view-in-github",
        "colab_type": "text"
      },
      "source": [
        "<a href=\"https://colab.research.google.com/github/Seungki-Jeong/Deep-Learning-with-Colab/blob/master/02_Cifar_100_model_colab.ipynb\" target=\"_parent\"><img src=\"https://colab.research.google.com/assets/colab-badge.svg\" alt=\"Open In Colab\"/></a>"
      ]
    },
    {
      "cell_type": "markdown",
      "metadata": {
        "id": "2ab6dv1Spsj9",
        "colab_type": "text"
      },
      "source": [
        "Cifar-100"
      ]
    },
    {
      "cell_type": "code",
      "metadata": {
        "id": "WfhDLE9Sws3L",
        "colab_type": "code",
        "colab": {}
      },
      "source": [
        "!mkdir model"
      ],
      "execution_count": 1,
      "outputs": []
    },
    {
      "cell_type": "code",
      "metadata": {
        "id": "cJDNJRYzwy1E",
        "colab_type": "code",
        "colab": {
          "base_uri": "https://localhost:8080/",
          "height": 71
        },
        "outputId": "5eb6de68-f5e9-46f9-e2e6-c3d0a91f919d"
      },
      "source": [
        "!ls -l"
      ],
      "execution_count": 2,
      "outputs": [
        {
          "output_type": "stream",
          "text": [
            "total 8\n",
            "drwxr-xr-x 2 root root 4096 Jul  7 05:33 model\n",
            "drwxr-xr-x 1 root root 4096 Jun 26 16:26 sample_data\n"
          ],
          "name": "stdout"
        }
      ]
    },
    {
      "cell_type": "code",
      "metadata": {
        "id": "9VSJZfOepk7V",
        "colab_type": "code",
        "colab": {
          "base_uri": "https://localhost:8080/",
          "height": 35
        },
        "outputId": "554f2024-6733-4b53-a3b8-658fa8f4caa6"
      },
      "source": [
        "%tensorflow_version 2.x\n",
        "import tensorflow as tf\n",
        "device_name = tf.test.gpu_device_name()\n",
        "if device_name != '/device:GPU:0':\n",
        "  raise SystemError('GPU device not found')\n",
        "print('Found GPU at: {}'.format(device_name))"
      ],
      "execution_count": 5,
      "outputs": [
        {
          "output_type": "stream",
          "text": [
            "Found GPU at: /device:GPU:0\n"
          ],
          "name": "stdout"
        }
      ]
    },
    {
      "cell_type": "code",
      "metadata": {
        "id": "dKl7-iFKp4Ie",
        "colab_type": "code",
        "colab": {
          "base_uri": "https://localhost:8080/",
          "height": 53
        },
        "outputId": "7cd0c10d-61f0-4f8b-89d6-9b2decd54a09"
      },
      "source": [
        "import tensorflow as tf\n",
        "from tensorflow import keras-\n",
        "from tensorflow.keras.datasets import cifar100\n",
        "(X_train, y_train), (X_test, y_test) = cifar100.load_data(label_mode='fine')"
      ],
      "execution_count": 6,
      "outputs": [
        {
          "output_type": "stream",
          "text": [
            "Downloading data from https://www.cs.toronto.edu/~kriz/cifar-100-python.tar.gz\n",
            "169009152/169001437 [==============================] - 4s 0us/step\n"
          ],
          "name": "stdout"
        }
      ]
    },
    {
      "cell_type": "code",
      "metadata": {
        "id": "4nhmPl_LqHuc",
        "colab_type": "code",
        "colab": {
          "base_uri": "https://localhost:8080/",
          "height": 35
        },
        "outputId": "65ee3968-1ad3-490e-f46a-d8205a3ac401"
      },
      "source": [
        "X_train.shape, X_test.shape"
      ],
      "execution_count": 7,
      "outputs": [
        {
          "output_type": "execute_result",
          "data": {
            "text/plain": [
              "((50000, 32, 32, 3), (10000, 32, 32, 3))"
            ]
          },
          "metadata": {
            "tags": []
          },
          "execution_count": 7
        }
      ]
    },
    {
      "cell_type": "code",
      "metadata": {
        "id": "FOrZ8rASqJo8",
        "colab_type": "code",
        "colab": {
          "base_uri": "https://localhost:8080/",
          "height": 197
        },
        "outputId": "1faf4534-89d7-48a6-d4c5-7eff0df84210"
      },
      "source": [
        "y_train[:10]"
      ],
      "execution_count": 8,
      "outputs": [
        {
          "output_type": "execute_result",
          "data": {
            "text/plain": [
              "array([[19],\n",
              "       [29],\n",
              "       [ 0],\n",
              "       [11],\n",
              "       [ 1],\n",
              "       [86],\n",
              "       [90],\n",
              "       [28],\n",
              "       [23],\n",
              "       [31]])"
            ]
          },
          "metadata": {
            "tags": []
          },
          "execution_count": 8
        }
      ]
    },
    {
      "cell_type": "code",
      "metadata": {
        "id": "BBsa7f_OqK3c",
        "colab_type": "code",
        "colab": {
          "base_uri": "https://localhost:8080/",
          "height": 124
        },
        "outputId": "caecd2fd-aa4a-464d-bd08-193fe39f9c5c"
      },
      "source": [
        "import matplotlib as mpl\n",
        "import matplotlib.pyplot as plt\n",
        "%matplotlib inline\n",
        "\n",
        "plt.subplot(141)\n",
        "plt.imshow(X_train[0], interpolation=\"bicubic\")\n",
        "plt.grid(False)\n",
        "plt.subplot(142)\n",
        "plt.imshow(X_train[4], interpolation=\"bicubic\")\n",
        "plt.grid(False)\n",
        "plt.subplot(143)\n",
        "plt.imshow(X_train[8], interpolation=\"bicubic\")\n",
        "plt.grid(False)\n",
        "plt.subplot(144)\n",
        "plt.imshow(X_train[12], interpolation=\"bicubic\")\n",
        "plt.grid(False)\n",
        "plt.show()"
      ],
      "execution_count": 9,
      "outputs": [
        {
          "output_type": "display_data",
          "data": {
            "image/png": "[encoded data removed]",
            "text/plain": [
              "<Figure size 432x288 with 4 Axes>"
            ]
          },
          "metadata": {
            "tags": [],
            "needs_background": "light"
          }
        }
      ]
    },
    {
      "cell_type": "code",
      "metadata": {
        "id": "t0dzPYjlqL8l",
        "colab_type": "code",
        "colab": {
          "base_uri": "https://localhost:8080/",
          "height": 35
        },
        "outputId": "16b82109-022f-4b86-fe56-cead5308fc70"
      },
      "source": [
        "y_train[0], y_train[4], y_train[8], y_train[12]"
      ],
      "execution_count": 10,
      "outputs": [
        {
          "output_type": "execute_result",
          "data": {
            "text/plain": [
              "(array([19]), array([1]), array([23]), array([82]))"
            ]
          },
          "metadata": {
            "tags": []
          },
          "execution_count": 10
        }
      ]
    },
    {
      "cell_type": "code",
      "metadata": {
        "id": "dfpDXzVqqNPk",
        "colab_type": "code",
        "colab": {
          "base_uri": "https://localhost:8080/",
          "height": 35
        },
        "outputId": "a9d1bd36-112e-47f1-9097-38551db9b2bc"
      },
      "source": [
        "X_train = X_train.astype('float32')/255.0\n",
        "X_test = X_test.astype('float32')/255.0\n",
        "\n",
        "print(X_train.shape, X_train.dtype)"
      ],
      "execution_count": 11,
      "outputs": [
        {
          "output_type": "stream",
          "text": [
            "(50000, 32, 32, 3) float32\n"
          ],
          "name": "stdout"
        }
      ]
    },
    {
      "cell_type": "code",
      "metadata": {
        "id": "SxnDxPzhqOSc",
        "colab_type": "code",
        "colab": {
          "base_uri": "https://localhost:8080/",
          "height": 269
        },
        "outputId": "bbea4f03-d998-404d-955b-a72c2a67d691"
      },
      "source": [
        "Y_train = tf.keras.utils.to_categorical(y_train, 100)\n",
        "Y_test = tf.keras.utils.to_categorical(y_test, 100)\n",
        "Y_train[:2]"
      ],
      "execution_count": 12,
      "outputs": [
        {
          "output_type": "execute_result",
          "data": {
            "text/plain": [
              "array([[0., 0., 0., 0., 0., 0., 0., 0., 0., 0., 0., 0., 0., 0., 0., 0.,\n",
              "        0., 0., 0., 1., 0., 0., 0., 0., 0., 0., 0., 0., 0., 0., 0., 0.,\n",
              "        0., 0., 0., 0., 0., 0., 0., 0., 0., 0., 0., 0., 0., 0., 0., 0.,\n",
              "        0., 0., 0., 0., 0., 0., 0., 0., 0., 0., 0., 0., 0., 0., 0., 0.,\n",
              "        0., 0., 0., 0., 0., 0., 0., 0., 0., 0., 0., 0., 0., 0., 0., 0.,\n",
              "        0., 0., 0., 0., 0., 0., 0., 0., 0., 0., 0., 0., 0., 0., 0., 0.,\n",
              "        0., 0., 0., 0.],\n",
              "       [0., 0., 0., 0., 0., 0., 0., 0., 0., 0., 0., 0., 0., 0., 0., 0.,\n",
              "        0., 0., 0., 0., 0., 0., 0., 0., 0., 0., 0., 0., 0., 1., 0., 0.,\n",
              "        0., 0., 0., 0., 0., 0., 0., 0., 0., 0., 0., 0., 0., 0., 0., 0.,\n",
              "        0., 0., 0., 0., 0., 0., 0., 0., 0., 0., 0., 0., 0., 0., 0., 0.,\n",
              "        0., 0., 0., 0., 0., 0., 0., 0., 0., 0., 0., 0., 0., 0., 0., 0.,\n",
              "        0., 0., 0., 0., 0., 0., 0., 0., 0., 0., 0., 0., 0., 0., 0., 0.,\n",
              "        0., 0., 0., 0.]], dtype=float32)"
            ]
          },
          "metadata": {
            "tags": []
          },
          "execution_count": 12
        }
      ]
    },
    {
      "cell_type": "code",
      "metadata": {
        "id": "HN9RcX8WqPOE",
        "colab_type": "code",
        "colab": {}
      },
      "source": [
        "from tensorflow.keras.models import Sequential\n",
        "from tensorflow.keras.layers import Conv2D, MaxPooling2D, Flatten, Dense, Dropout\n",
        "from tensorflow.keras.layers import Activation\n",
        "import numpy as np\n",
        "\n",
        "np.random.seed(0)"
      ],
      "execution_count": 13,
      "outputs": []
    },
    {
      "cell_type": "code",
      "metadata": {
        "id": "MZ5yZ6fhrNdT",
        "colab_type": "code",
        "colab": {
          "base_uri": "https://localhost:8080/",
          "height": 845
        },
        "outputId": "e8dfbad3-df4e-458f-96b0-8413fac97cad"
      },
      "source": [
        "model = Sequential()\n",
        "\n",
        "# Input Layer\n",
        "model.add(Conv2D(32, (3,3), padding='same', input_shape = X_train.shape[1:]))\n",
        "model.add(Activation('relu'))\n",
        "# MAXPOOL Layer 1\n",
        "model.add(MaxPooling2D(pool_size=(2, 2)))\n",
        "model.add(Activation('relu'))\n",
        "# CONV2D Layer 2\n",
        "model.add(Conv2D(64, (3,3), padding='same'))\n",
        "model.add(Activation('relu'))\n",
        "# MAXPOOL Layer 2\n",
        "model.add(MaxPooling2D(pool_size=(2, 2)))\n",
        "model.add(Activation('relu'))\n",
        "# Add a dropout of 10%\n",
        "model.add(Dropout(0.1))\n",
        "# CONV2D Layer 3\n",
        "model.add(Conv2D(128, (3,3), padding='same'))\n",
        "model.add(Activation('relu'))\n",
        "# MAXPOOL Layer 3\n",
        "model.add(MaxPooling2D(pool_size=(2,2)))\n",
        "# Add dropout of 25%\n",
        "model.add(Dropout(0.25))\n",
        "# flatten \n",
        "model.add(Flatten())\n",
        "# Fully Connected Layer 1\n",
        "model.add(Dense(512))\n",
        "model.add(Activation('relu'))\n",
        "# Adding a dropout of 50%\n",
        "model.add(Dropout(0.5))\n",
        "# Output Layer (Fully Connected Layer 2) \n",
        "model.add(Dense(100))\n",
        "model.add(Activation('softmax'))\n",
        "          \n",
        "model.summary()"
      ],
      "execution_count": 14,
      "outputs": [
        {
          "output_type": "stream",
          "text": [
            "Model: \"sequential\"\n",
            "_________________________________________________________________\n",
            "Layer (type)                 Output Shape              Param #   \n",
            "=================================================================\n",
            "conv2d (Conv2D)              (None, 32, 32, 32)        896       \n",
            "_________________________________________________________________\n",
            "activation (Activation)      (None, 32, 32, 32)        0         \n",
            "_________________________________________________________________\n",
            "max_pooling2d (MaxPooling2D) (None, 16, 16, 32)        0         \n",
            "_________________________________________________________________\n",
            "activation_1 (Activation)    (None, 16, 16, 32)        0         \n",
            "_________________________________________________________________\n",
            "conv2d_1 (Conv2D)            (None, 16, 16, 64)        18496     \n",
            "_________________________________________________________________\n",
            "activation_2 (Activation)    (None, 16, 16, 64)        0         \n",
            "_________________________________________________________________\n",
            "max_pooling2d_1 (MaxPooling2 (None, 8, 8, 64)          0         \n",
            "_________________________________________________________________\n",
            "activation_3 (Activation)    (None, 8, 8, 64)          0         \n",
            "_________________________________________________________________\n",
            "dropout (Dropout)            (None, 8, 8, 64)          0         \n",
            "_________________________________________________________________\n",
            "conv2d_2 (Conv2D)            (None, 8, 8, 128)         73856     \n",
            "_________________________________________________________________\n",
            "activation_4 (Activation)    (None, 8, 8, 128)         0         \n",
            "_________________________________________________________________\n",
            "max_pooling2d_2 (MaxPooling2 (None, 4, 4, 128)         0         \n",
            "_________________________________________________________________\n",
            "dropout_1 (Dropout)          (None, 4, 4, 128)         0         \n",
            "_________________________________________________________________\n",
            "flatten (Flatten)            (None, 2048)              0         \n",
            "_________________________________________________________________\n",
            "dense (Dense)                (None, 512)               1049088   \n",
            "_________________________________________________________________\n",
            "activation_5 (Activation)    (None, 512)               0         \n",
            "_________________________________________________________________\n",
            "dropout_2 (Dropout)          (None, 512)               0         \n",
            "_________________________________________________________________\n",
            "dense_1 (Dense)              (None, 100)               51300     \n",
            "_________________________________________________________________\n",
            "activation_6 (Activation)    (None, 100)               0         \n",
            "=================================================================\n",
            "Total params: 1,193,636\n",
            "Trainable params: 1,193,636\n",
            "Non-trainable params: 0\n",
            "_________________________________________________________________\n"
          ],
          "name": "stdout"
        }
      ]
    },
    {
      "cell_type": "code",
      "metadata": {
        "id": "k7QqKsr6rPqj",
        "colab_type": "code",
        "colab": {}
      },
      "source": [
        "opt = keras.optimizers.Adam(lr=0.0001)\n",
        "model.compile(loss='categorical_crossentropy', optimizer=opt, metrics=['accuracy'])"
      ],
      "execution_count": 15,
      "outputs": []
    },
    {
      "cell_type": "code",
      "metadata": {
        "id": "kfw6BueGxLoS",
        "colab_type": "code",
        "colab": {}
      },
      "source": [
        "from keras.callbacks import ModelCheckpoint, EarlyStopping"
      ],
      "execution_count": 32,
      "outputs": []
    },
    {
      "cell_type": "code",
      "metadata": {
        "id": "1OEIS9ETxP_T",
        "colab_type": "code",
        "colab": {}
      },
      "source": [
        "modelpath = \"model/dogs_vs_cats-cnn-{epoch:02d}-{val_loss:.4f}.hdf5\"\n",
        "checkpointer = ModelCheckpoint(filepath=modelpath, monitor='val_loss', verbose=1, save_best_only=True)\n",
        "early_stopping_callback = EarlyStopping(monitor='val_loss', patience=20)"
      ],
      "execution_count": 33,
      "outputs": []
    },
    {
      "cell_type": "code",
      "metadata": {
        "id": "K-x2m9lxrTIj",
        "colab_type": "code",
        "colab": {
          "base_uri": "https://localhost:8080/",
          "height": 1000
        },
        "outputId": "c4c88c25-1c77-4c28-f83e-801276b2f1c8"
      },
      "source": [
        "history = model.fit(X_train, Y_train, epochs=300, batch_size=50,\n",
        "                    validation_data=(X_test, Y_test), \n",
        "                    callbacks = [checkpointer, early_stopping_callback], verbose=1)"
      ],
      "execution_count": 34,
      "outputs": [
        {
          "output_type": "stream",
          "text": [
            "Epoch 1/300\n",
            " 999/1000 [============================>.] - ETA: 0s - loss: 4.3224 - accuracy: 0.0454\n",
            "Epoch 00001: val_loss improved from inf to 3.91794, saving model to model/dogs_vs_cats-cnn-01-3.9179.hdf5\n",
            "1000/1000 [==============================] - 13s 13ms/step - loss: 4.3221 - accuracy: 0.0454 - val_loss: 3.9179 - val_accuracy: 0.1124\n",
            "Epoch 2/300\n",
            "1000/1000 [==============================] - ETA: 0s - loss: 3.8573 - accuracy: 0.1117\n",
            "Epoch 00002: val_loss improved from 3.91794 to 3.59137, saving model to model/dogs_vs_cats-cnn-02-3.5914.hdf5\n",
            "1000/1000 [==============================] - 12s 12ms/step - loss: 3.8573 - accuracy: 0.1117 - val_loss: 3.5914 - val_accuracy: 0.1757\n",
            "Epoch 3/300\n",
            " 996/1000 [============================>.] - ETA: 0s - loss: 3.6282 - accuracy: 0.1486\n",
            "Epoch 00003: val_loss improved from 3.59137 to 3.39072, saving model to model/dogs_vs_cats-cnn-03-3.3907.hdf5\n",
            "1000/1000 [==============================] - 12s 12ms/step - loss: 3.6278 - accuracy: 0.1486 - val_loss: 3.3907 - val_accuracy: 0.2065\n",
            "Epoch 4/300\n",
            " 996/1000 [============================>.] - ETA: 0s - loss: 3.4725 - accuracy: 0.1759\n",
            "Epoch 00004: val_loss improved from 3.39072 to 3.25376, saving model to model/dogs_vs_cats-cnn-04-3.2538.hdf5\n",
            "1000/1000 [==============================] - 12s 12ms/step - loss: 3.4718 - accuracy: 0.1759 - val_loss: 3.2538 - val_accuracy: 0.2304\n",
            "Epoch 5/300\n",
            " 999/1000 [============================>.] - ETA: 0s - loss: 3.3368 - accuracy: 0.1976\n",
            "Epoch 00005: val_loss improved from 3.25376 to 3.12906, saving model to model/dogs_vs_cats-cnn-05-3.1291.hdf5\n",
            "1000/1000 [==============================] - 12s 12ms/step - loss: 3.3368 - accuracy: 0.1975 - val_loss: 3.1291 - val_accuracy: 0.2556\n",
            "Epoch 6/300\n",
            " 997/1000 [============================>.] - ETA: 0s - loss: 3.2211 - accuracy: 0.2208\n",
            "Epoch 00006: val_loss improved from 3.12906 to 3.01037, saving model to model/dogs_vs_cats-cnn-06-3.0104.hdf5\n",
            "1000/1000 [==============================] - 12s 12ms/step - loss: 3.2211 - accuracy: 0.2207 - val_loss: 3.0104 - val_accuracy: 0.2723\n",
            "Epoch 7/300\n",
            " 996/1000 [============================>.] - ETA: 0s - loss: 3.1239 - accuracy: 0.2377\n",
            "Epoch 00007: val_loss improved from 3.01037 to 2.92910, saving model to model/dogs_vs_cats-cnn-07-2.9291.hdf5\n",
            "1000/1000 [==============================] - 12s 12ms/step - loss: 3.1239 - accuracy: 0.2377 - val_loss: 2.9291 - val_accuracy: 0.2860\n",
            "Epoch 8/300\n",
            "1000/1000 [==============================] - ETA: 0s - loss: 3.0435 - accuracy: 0.2517\n",
            "Epoch 00008: val_loss improved from 2.92910 to 2.85083, saving model to model/dogs_vs_cats-cnn-08-2.8508.hdf5\n",
            "1000/1000 [==============================] - 12s 12ms/step - loss: 3.0435 - accuracy: 0.2517 - val_loss: 2.8508 - val_accuracy: 0.3033\n",
            "Epoch 9/300\n",
            " 996/1000 [============================>.] - ETA: 0s - loss: 2.9661 - accuracy: 0.2682\n",
            "Epoch 00009: val_loss improved from 2.85083 to 2.79440, saving model to model/dogs_vs_cats-cnn-09-2.7944.hdf5\n",
            "1000/1000 [==============================] - 12s 12ms/step - loss: 2.9656 - accuracy: 0.2682 - val_loss: 2.7944 - val_accuracy: 0.3141\n",
            "Epoch 10/300\n",
            " 996/1000 [============================>.] - ETA: 0s - loss: 2.8999 - accuracy: 0.2792\n",
            "Epoch 00010: val_loss improved from 2.79440 to 2.74562, saving model to model/dogs_vs_cats-cnn-10-2.7456.hdf5\n",
            "1000/1000 [==============================] - 12s 12ms/step - loss: 2.9001 - accuracy: 0.2792 - val_loss: 2.7456 - val_accuracy: 0.3254\n",
            "Epoch 11/300\n",
            " 999/1000 [============================>.] - ETA: 0s - loss: 2.8408 - accuracy: 0.2934\n",
            "Epoch 00011: val_loss improved from 2.74562 to 2.67420, saving model to model/dogs_vs_cats-cnn-11-2.6742.hdf5\n",
            "1000/1000 [==============================] - 12s 12ms/step - loss: 2.8404 - accuracy: 0.2935 - val_loss: 2.6742 - val_accuracy: 0.3345\n",
            "Epoch 12/300\n",
            " 996/1000 [============================>.] - ETA: 0s - loss: 2.7814 - accuracy: 0.3046\n",
            "Epoch 00012: val_loss improved from 2.67420 to 2.63978, saving model to model/dogs_vs_cats-cnn-12-2.6398.hdf5\n",
            "1000/1000 [==============================] - 13s 13ms/step - loss: 2.7822 - accuracy: 0.3046 - val_loss: 2.6398 - val_accuracy: 0.3442\n",
            "Epoch 13/300\n",
            "1000/1000 [==============================] - ETA: 0s - loss: 2.7325 - accuracy: 0.3155\n",
            "Epoch 00013: val_loss improved from 2.63978 to 2.58999, saving model to model/dogs_vs_cats-cnn-13-2.5900.hdf5\n",
            "1000/1000 [==============================] - 12s 12ms/step - loss: 2.7325 - accuracy: 0.3155 - val_loss: 2.5900 - val_accuracy: 0.3555\n",
            "Epoch 14/300\n",
            " 999/1000 [============================>.] - ETA: 0s - loss: 2.6867 - accuracy: 0.3236\n",
            "Epoch 00014: val_loss improved from 2.58999 to 2.56198, saving model to model/dogs_vs_cats-cnn-14-2.5620.hdf5\n",
            "1000/1000 [==============================] - 12s 12ms/step - loss: 2.6866 - accuracy: 0.3236 - val_loss: 2.5620 - val_accuracy: 0.3641\n",
            "Epoch 15/300\n",
            " 998/1000 [============================>.] - ETA: 0s - loss: 2.6435 - accuracy: 0.3331\n",
            "Epoch 00015: val_loss improved from 2.56198 to 2.52186, saving model to model/dogs_vs_cats-cnn-15-2.5219.hdf5\n",
            "1000/1000 [==============================] - 12s 12ms/step - loss: 2.6431 - accuracy: 0.3332 - val_loss: 2.5219 - val_accuracy: 0.3702\n",
            "Epoch 16/300\n",
            " 996/1000 [============================>.] - ETA: 0s - loss: 2.5999 - accuracy: 0.3419\n",
            "Epoch 00016: val_loss improved from 2.52186 to 2.47996, saving model to model/dogs_vs_cats-cnn-16-2.4800.hdf5\n",
            "1000/1000 [==============================] - 12s 12ms/step - loss: 2.5992 - accuracy: 0.3421 - val_loss: 2.4800 - val_accuracy: 0.3769\n",
            "Epoch 17/300\n",
            "1000/1000 [==============================] - ETA: 0s - loss: 2.5528 - accuracy: 0.3519\n",
            "Epoch 00017: val_loss improved from 2.47996 to 2.44753, saving model to model/dogs_vs_cats-cnn-17-2.4475.hdf5\n",
            "1000/1000 [==============================] - 12s 12ms/step - loss: 2.5528 - accuracy: 0.3519 - val_loss: 2.4475 - val_accuracy: 0.3831\n",
            "Epoch 18/300\n",
            " 996/1000 [============================>.] - ETA: 0s - loss: 2.5153 - accuracy: 0.3596\n",
            "Epoch 00018: val_loss improved from 2.44753 to 2.42735, saving model to model/dogs_vs_cats-cnn-18-2.4274.hdf5\n",
            "1000/1000 [==============================] - 12s 12ms/step - loss: 2.5158 - accuracy: 0.3594 - val_loss: 2.4274 - val_accuracy: 0.3867\n",
            "Epoch 19/300\n",
            " 997/1000 [============================>.] - ETA: 0s - loss: 2.4775 - accuracy: 0.3671\n",
            "Epoch 00019: val_loss improved from 2.42735 to 2.39305, saving model to model/dogs_vs_cats-cnn-19-2.3931.hdf5\n",
            "1000/1000 [==============================] - 12s 12ms/step - loss: 2.4780 - accuracy: 0.3669 - val_loss: 2.3931 - val_accuracy: 0.3934\n",
            "Epoch 20/300\n",
            " 997/1000 [============================>.] - ETA: 0s - loss: 2.4400 - accuracy: 0.3736\n",
            "Epoch 00020: val_loss improved from 2.39305 to 2.38554, saving model to model/dogs_vs_cats-cnn-20-2.3855.hdf5\n",
            "1000/1000 [==============================] - 12s 12ms/step - loss: 2.4402 - accuracy: 0.3735 - val_loss: 2.3855 - val_accuracy: 0.3982\n",
            "Epoch 21/300\n",
            " 997/1000 [============================>.] - ETA: 0s - loss: 2.4052 - accuracy: 0.3790\n",
            "Epoch 00021: val_loss improved from 2.38554 to 2.35793, saving model to model/dogs_vs_cats-cnn-21-2.3579.hdf5\n",
            "1000/1000 [==============================] - 12s 12ms/step - loss: 2.4052 - accuracy: 0.3790 - val_loss: 2.3579 - val_accuracy: 0.4067\n",
            "Epoch 22/300\n",
            " 999/1000 [============================>.] - ETA: 0s - loss: 2.3773 - accuracy: 0.3903\n",
            "Epoch 00022: val_loss improved from 2.35793 to 2.33962, saving model to model/dogs_vs_cats-cnn-22-2.3396.hdf5\n",
            "1000/1000 [==============================] - 12s 12ms/step - loss: 2.3773 - accuracy: 0.3903 - val_loss: 2.3396 - val_accuracy: 0.4056\n",
            "Epoch 23/300\n",
            " 996/1000 [============================>.] - ETA: 0s - loss: 2.3432 - accuracy: 0.3916\n",
            "Epoch 00023: val_loss improved from 2.33962 to 2.30855, saving model to model/dogs_vs_cats-cnn-23-2.3085.hdf5\n",
            "1000/1000 [==============================] - 12s 12ms/step - loss: 2.3441 - accuracy: 0.3916 - val_loss: 2.3085 - val_accuracy: 0.4152\n",
            "Epoch 24/300\n",
            " 998/1000 [============================>.] - ETA: 0s - loss: 2.3130 - accuracy: 0.4004\n",
            "Epoch 00024: val_loss improved from 2.30855 to 2.29943, saving model to model/dogs_vs_cats-cnn-24-2.2994.hdf5\n",
            "1000/1000 [==============================] - 12s 12ms/step - loss: 2.3132 - accuracy: 0.4004 - val_loss: 2.2994 - val_accuracy: 0.4134\n",
            "Epoch 25/300\n",
            " 999/1000 [============================>.] - ETA: 0s - loss: 2.2840 - accuracy: 0.4069\n",
            "Epoch 00025: val_loss improved from 2.29943 to 2.27102, saving model to model/dogs_vs_cats-cnn-25-2.2710.hdf5\n",
            "1000/1000 [==============================] - 12s 12ms/step - loss: 2.2837 - accuracy: 0.4069 - val_loss: 2.2710 - val_accuracy: 0.4225\n",
            "Epoch 26/300\n",
            " 998/1000 [============================>.] - ETA: 0s - loss: 2.2580 - accuracy: 0.4113\n",
            "Epoch 00026: val_loss did not improve from 2.27102\n",
            "1000/1000 [==============================] - 12s 12ms/step - loss: 2.2578 - accuracy: 0.4114 - val_loss: 2.2742 - val_accuracy: 0.4196\n",
            "Epoch 27/300\n",
            " 997/1000 [============================>.] - ETA: 0s - loss: 2.2201 - accuracy: 0.4206\n",
            "Epoch 00027: val_loss improved from 2.27102 to 2.23359, saving model to model/dogs_vs_cats-cnn-27-2.2336.hdf5\n",
            "1000/1000 [==============================] - 12s 12ms/step - loss: 2.2199 - accuracy: 0.4206 - val_loss: 2.2336 - val_accuracy: 0.4281\n",
            "Epoch 28/300\n",
            " 998/1000 [============================>.] - ETA: 0s - loss: 2.1996 - accuracy: 0.4226\n",
            "Epoch 00028: val_loss improved from 2.23359 to 2.21984, saving model to model/dogs_vs_cats-cnn-28-2.2198.hdf5\n",
            "1000/1000 [==============================] - 12s 12ms/step - loss: 2.1993 - accuracy: 0.4227 - val_loss: 2.2198 - val_accuracy: 0.4299\n",
            "Epoch 29/300\n",
            "1000/1000 [==============================] - ETA: 0s - loss: 2.1714 - accuracy: 0.4295\n",
            "Epoch 00029: val_loss improved from 2.21984 to 2.20585, saving model to model/dogs_vs_cats-cnn-29-2.2058.hdf5\n",
            "1000/1000 [==============================] - 12s 12ms/step - loss: 2.1714 - accuracy: 0.4295 - val_loss: 2.2058 - val_accuracy: 0.4369\n",
            "Epoch 30/300\n",
            " 996/1000 [============================>.] - ETA: 0s - loss: 2.1350 - accuracy: 0.4395\n",
            "Epoch 00030: val_loss improved from 2.20585 to 2.18760, saving model to model/dogs_vs_cats-cnn-30-2.1876.hdf5\n",
            "1000/1000 [==============================] - 12s 12ms/step - loss: 2.1363 - accuracy: 0.4393 - val_loss: 2.1876 - val_accuracy: 0.4380\n",
            "Epoch 31/300\n",
            " 999/1000 [============================>.] - ETA: 0s - loss: 2.1285 - accuracy: 0.4406\n",
            "Epoch 00031: val_loss improved from 2.18760 to 2.17912, saving model to model/dogs_vs_cats-cnn-31-2.1791.hdf5\n",
            "1000/1000 [==============================] - 12s 12ms/step - loss: 2.1285 - accuracy: 0.4407 - val_loss: 2.1791 - val_accuracy: 0.4406\n",
            "Epoch 32/300\n",
            "1000/1000 [==============================] - ETA: 0s - loss: 2.0910 - accuracy: 0.4459\n",
            "Epoch 00032: val_loss improved from 2.17912 to 2.16195, saving model to model/dogs_vs_cats-cnn-32-2.1619.hdf5\n",
            "1000/1000 [==============================] - 12s 12ms/step - loss: 2.0910 - accuracy: 0.4459 - val_loss: 2.1619 - val_accuracy: 0.4430\n",
            "Epoch 33/300\n",
            " 999/1000 [============================>.] - ETA: 0s - loss: 2.0719 - accuracy: 0.4513\n",
            "Epoch 00033: val_loss did not improve from 2.16195\n",
            "1000/1000 [==============================] - 12s 12ms/step - loss: 2.0722 - accuracy: 0.4512 - val_loss: 2.1780 - val_accuracy: 0.4446\n",
            "Epoch 34/300\n",
            "1000/1000 [==============================] - ETA: 0s - loss: 2.0404 - accuracy: 0.4580\n",
            "Epoch 00034: val_loss improved from 2.16195 to 2.15266, saving model to model/dogs_vs_cats-cnn-34-2.1527.hdf5\n",
            "1000/1000 [==============================] - 12s 12ms/step - loss: 2.0404 - accuracy: 0.4580 - val_loss: 2.1527 - val_accuracy: 0.4466\n",
            "Epoch 35/300\n",
            "1000/1000 [==============================] - ETA: 0s - loss: 2.0209 - accuracy: 0.4631\n",
            "Epoch 00035: val_loss improved from 2.15266 to 2.13461, saving model to model/dogs_vs_cats-cnn-35-2.1346.hdf5\n",
            "1000/1000 [==============================] - 12s 12ms/step - loss: 2.0209 - accuracy: 0.4631 - val_loss: 2.1346 - val_accuracy: 0.4495\n",
            "Epoch 36/300\n",
            " 998/1000 [============================>.] - ETA: 0s - loss: 2.0000 - accuracy: 0.4677\n",
            "Epoch 00036: val_loss improved from 2.13461 to 2.13447, saving model to model/dogs_vs_cats-cnn-36-2.1345.hdf5\n",
            "1000/1000 [==============================] - 12s 12ms/step - loss: 1.9998 - accuracy: 0.4676 - val_loss: 2.1345 - val_accuracy: 0.4465\n",
            "Epoch 37/300\n",
            " 998/1000 [============================>.] - ETA: 0s - loss: 1.9779 - accuracy: 0.4717\n",
            "Epoch 00037: val_loss did not improve from 2.13447\n",
            "1000/1000 [==============================] - 12s 12ms/step - loss: 1.9780 - accuracy: 0.4718 - val_loss: 2.1419 - val_accuracy: 0.4483\n",
            "Epoch 38/300\n",
            " 998/1000 [============================>.] - ETA: 0s - loss: 1.9458 - accuracy: 0.4780\n",
            "Epoch 00038: val_loss improved from 2.13447 to 2.10008, saving model to model/dogs_vs_cats-cnn-38-2.1001.hdf5\n",
            "1000/1000 [==============================] - 12s 12ms/step - loss: 1.9454 - accuracy: 0.4780 - val_loss: 2.1001 - val_accuracy: 0.4523\n",
            "Epoch 39/300\n",
            " 999/1000 [============================>.] - ETA: 0s - loss: 1.9291 - accuracy: 0.4788\n",
            "Epoch 00039: val_loss improved from 2.10008 to 2.09372, saving model to model/dogs_vs_cats-cnn-39-2.0937.hdf5\n",
            "1000/1000 [==============================] - 12s 12ms/step - loss: 1.9290 - accuracy: 0.4789 - val_loss: 2.0937 - val_accuracy: 0.4590\n",
            "Epoch 40/300\n",
            " 996/1000 [============================>.] - ETA: 0s - loss: 1.9133 - accuracy: 0.4849\n",
            "Epoch 00040: val_loss improved from 2.09372 to 2.08821, saving model to model/dogs_vs_cats-cnn-40-2.0882.hdf5\n",
            "1000/1000 [==============================] - 12s 12ms/step - loss: 1.9134 - accuracy: 0.4849 - val_loss: 2.0882 - val_accuracy: 0.4585\n",
            "Epoch 41/300\n",
            " 996/1000 [============================>.] - ETA: 0s - loss: 1.8916 - accuracy: 0.4905\n",
            "Epoch 00041: val_loss improved from 2.08821 to 2.08238, saving model to model/dogs_vs_cats-cnn-41-2.0824.hdf5\n",
            "1000/1000 [==============================] - 12s 12ms/step - loss: 1.8913 - accuracy: 0.4906 - val_loss: 2.0824 - val_accuracy: 0.4553\n",
            "Epoch 42/300\n",
            " 996/1000 [============================>.] - ETA: 0s - loss: 1.8741 - accuracy: 0.4925\n",
            "Epoch 00042: val_loss improved from 2.08238 to 2.08234, saving model to model/dogs_vs_cats-cnn-42-2.0823.hdf5\n",
            "1000/1000 [==============================] - 12s 12ms/step - loss: 1.8734 - accuracy: 0.4927 - val_loss: 2.0823 - val_accuracy: 0.4609\n",
            "Epoch 43/300\n",
            "1000/1000 [==============================] - ETA: 0s - loss: 1.8450 - accuracy: 0.4983\n",
            "Epoch 00043: val_loss improved from 2.08234 to 2.07599, saving model to model/dogs_vs_cats-cnn-43-2.0760.hdf5\n",
            "1000/1000 [==============================] - 12s 12ms/step - loss: 1.8450 - accuracy: 0.4983 - val_loss: 2.0760 - val_accuracy: 0.4613\n",
            "Epoch 44/300\n",
            "1000/1000 [==============================] - ETA: 0s - loss: 1.8284 - accuracy: 0.5035\n",
            "Epoch 00044: val_loss improved from 2.07599 to 2.05974, saving model to model/dogs_vs_cats-cnn-44-2.0597.hdf5\n",
            "1000/1000 [==============================] - 12s 12ms/step - loss: 1.8284 - accuracy: 0.5035 - val_loss: 2.0597 - val_accuracy: 0.4639\n",
            "Epoch 45/300\n",
            " 996/1000 [============================>.] - ETA: 0s - loss: 1.8101 - accuracy: 0.5065\n",
            "Epoch 00045: val_loss improved from 2.05974 to 2.04336, saving model to model/dogs_vs_cats-cnn-45-2.0434.hdf5\n",
            "1000/1000 [==============================] - 12s 12ms/step - loss: 1.8102 - accuracy: 0.5064 - val_loss: 2.0434 - val_accuracy: 0.4680\n",
            "Epoch 46/300\n",
            "1000/1000 [==============================] - ETA: 0s - loss: 1.7975 - accuracy: 0.5100\n",
            "Epoch 00046: val_loss improved from 2.04336 to 2.04191, saving model to model/dogs_vs_cats-cnn-46-2.0419.hdf5\n",
            "1000/1000 [==============================] - 12s 12ms/step - loss: 1.7975 - accuracy: 0.5100 - val_loss: 2.0419 - val_accuracy: 0.4693\n",
            "Epoch 47/300\n",
            "1000/1000 [==============================] - ETA: 0s - loss: 1.7723 - accuracy: 0.5156\n",
            "Epoch 00047: val_loss improved from 2.04191 to 2.03242, saving model to model/dogs_vs_cats-cnn-47-2.0324.hdf5\n",
            "1000/1000 [==============================] - 12s 12ms/step - loss: 1.7723 - accuracy: 0.5156 - val_loss: 2.0324 - val_accuracy: 0.4709\n",
            "Epoch 48/300\n",
            " 996/1000 [============================>.] - ETA: 0s - loss: 1.7546 - accuracy: 0.5207\n",
            "Epoch 00048: val_loss improved from 2.03242 to 2.03227, saving model to model/dogs_vs_cats-cnn-48-2.0323.hdf5\n",
            "1000/1000 [==============================] - 12s 12ms/step - loss: 1.7550 - accuracy: 0.5206 - val_loss: 2.0323 - val_accuracy: 0.4748\n",
            "Epoch 49/300\n",
            "1000/1000 [==============================] - ETA: 0s - loss: 1.7370 - accuracy: 0.5222\n",
            "Epoch 00049: val_loss did not improve from 2.03227\n",
            "1000/1000 [==============================] - 12s 12ms/step - loss: 1.7370 - accuracy: 0.5222 - val_loss: 2.0421 - val_accuracy: 0.4709\n",
            "Epoch 50/300\n",
            "1000/1000 [==============================] - ETA: 0s - loss: 1.7249 - accuracy: 0.5258\n",
            "Epoch 00050: val_loss improved from 2.03227 to 2.02556, saving model to model/dogs_vs_cats-cnn-50-2.0256.hdf5\n",
            "1000/1000 [==============================] - 12s 12ms/step - loss: 1.7249 - accuracy: 0.5258 - val_loss: 2.0256 - val_accuracy: 0.4734\n",
            "Epoch 51/300\n",
            " 996/1000 [============================>.] - ETA: 0s - loss: 1.7026 - accuracy: 0.5311\n",
            "Epoch 00051: val_loss improved from 2.02556 to 2.01903, saving model to model/dogs_vs_cats-cnn-51-2.0190.hdf5\n",
            "1000/1000 [==============================] - 12s 12ms/step - loss: 1.7025 - accuracy: 0.5313 - val_loss: 2.0190 - val_accuracy: 0.4744\n",
            "Epoch 52/300\n",
            " 997/1000 [============================>.] - ETA: 0s - loss: 1.6729 - accuracy: 0.5375\n",
            "Epoch 00052: val_loss improved from 2.01903 to 2.01218, saving model to model/dogs_vs_cats-cnn-52-2.0122.hdf5\n",
            "1000/1000 [==============================] - 12s 12ms/step - loss: 1.6731 - accuracy: 0.5376 - val_loss: 2.0122 - val_accuracy: 0.4751\n",
            "Epoch 53/300\n",
            " 998/1000 [============================>.] - ETA: 0s - loss: 1.6679 - accuracy: 0.5391\n",
            "Epoch 00053: val_loss improved from 2.01218 to 2.01169, saving model to model/dogs_vs_cats-cnn-53-2.0117.hdf5\n",
            "1000/1000 [==============================] - 12s 12ms/step - loss: 1.6686 - accuracy: 0.5389 - val_loss: 2.0117 - val_accuracy: 0.4764\n",
            "Epoch 54/300\n",
            "1000/1000 [==============================] - ETA: 0s - loss: 1.6525 - accuracy: 0.5457\n",
            "Epoch 00054: val_loss improved from 2.01169 to 2.00762, saving model to model/dogs_vs_cats-cnn-54-2.0076.hdf5\n",
            "1000/1000 [==============================] - 12s 12ms/step - loss: 1.6525 - accuracy: 0.5457 - val_loss: 2.0076 - val_accuracy: 0.4794\n",
            "Epoch 55/300\n",
            " 996/1000 [============================>.] - ETA: 0s - loss: 1.6368 - accuracy: 0.5439\n",
            "Epoch 00055: val_loss did not improve from 2.00762\n",
            "1000/1000 [==============================] - 12s 12ms/step - loss: 1.6375 - accuracy: 0.5439 - val_loss: 2.0145 - val_accuracy: 0.4764\n",
            "Epoch 56/300\n",
            "1000/1000 [==============================] - ETA: 0s - loss: 1.6199 - accuracy: 0.5489\n",
            "Epoch 00056: val_loss did not improve from 2.00762\n",
            "1000/1000 [==============================] - 12s 12ms/step - loss: 1.6199 - accuracy: 0.5489 - val_loss: 2.0150 - val_accuracy: 0.4816\n",
            "Epoch 57/300\n",
            "1000/1000 [==============================] - ETA: 0s - loss: 1.6005 - accuracy: 0.5541\n",
            "Epoch 00057: val_loss improved from 2.00762 to 2.00585, saving model to model/dogs_vs_cats-cnn-57-2.0058.hdf5\n",
            "1000/1000 [==============================] - 12s 12ms/step - loss: 1.6005 - accuracy: 0.5541 - val_loss: 2.0058 - val_accuracy: 0.4810\n",
            "Epoch 58/300\n",
            "1000/1000 [==============================] - ETA: 0s - loss: 1.5865 - accuracy: 0.5588\n",
            "Epoch 00058: val_loss improved from 2.00585 to 1.99754, saving model to model/dogs_vs_cats-cnn-58-1.9975.hdf5\n",
            "1000/1000 [==============================] - 12s 12ms/step - loss: 1.5865 - accuracy: 0.5588 - val_loss: 1.9975 - val_accuracy: 0.4795\n",
            "Epoch 59/300\n",
            " 999/1000 [============================>.] - ETA: 0s - loss: 1.5698 - accuracy: 0.5582\n",
            "Epoch 00059: val_loss improved from 1.99754 to 1.99487, saving model to model/dogs_vs_cats-cnn-59-1.9949.hdf5\n",
            "1000/1000 [==============================] - 12s 12ms/step - loss: 1.5697 - accuracy: 0.5582 - val_loss: 1.9949 - val_accuracy: 0.4819\n",
            "Epoch 60/300\n",
            " 998/1000 [============================>.] - ETA: 0s - loss: 1.5541 - accuracy: 0.5641\n",
            "Epoch 00060: val_loss improved from 1.99487 to 1.99079, saving model to model/dogs_vs_cats-cnn-60-1.9908.hdf5\n",
            "1000/1000 [==============================] - 12s 12ms/step - loss: 1.5539 - accuracy: 0.5641 - val_loss: 1.9908 - val_accuracy: 0.4843\n",
            "Epoch 61/300\n",
            " 997/1000 [============================>.] - ETA: 0s - loss: 1.5421 - accuracy: 0.5649\n",
            "Epoch 00061: val_loss did not improve from 1.99079\n",
            "1000/1000 [==============================] - 12s 12ms/step - loss: 1.5418 - accuracy: 0.5650 - val_loss: 1.9942 - val_accuracy: 0.4837\n",
            "Epoch 62/300\n",
            " 998/1000 [============================>.] - ETA: 0s - loss: 1.5275 - accuracy: 0.5698\n",
            "Epoch 00062: val_loss did not improve from 1.99079\n",
            "1000/1000 [==============================] - 12s 12ms/step - loss: 1.5277 - accuracy: 0.5698 - val_loss: 2.0031 - val_accuracy: 0.4800\n",
            "Epoch 63/300\n",
            " 997/1000 [============================>.] - ETA: 0s - loss: 1.5097 - accuracy: 0.5734\n",
            "Epoch 00063: val_loss improved from 1.99079 to 1.98487, saving model to model/dogs_vs_cats-cnn-63-1.9849.hdf5\n",
            "1000/1000 [==============================] - 12s 12ms/step - loss: 1.5093 - accuracy: 0.5734 - val_loss: 1.9849 - val_accuracy: 0.4833\n",
            "Epoch 64/300\n",
            " 999/1000 [============================>.] - ETA: 0s - loss: 1.5004 - accuracy: 0.5769\n",
            "Epoch 00064: val_loss did not improve from 1.98487\n",
            "1000/1000 [==============================] - 12s 12ms/step - loss: 1.5002 - accuracy: 0.5769 - val_loss: 1.9893 - val_accuracy: 0.4861\n",
            "Epoch 65/300\n",
            " 998/1000 [============================>.] - ETA: 0s - loss: 1.4862 - accuracy: 0.5791\n",
            "Epoch 00065: val_loss improved from 1.98487 to 1.98325, saving model to model/dogs_vs_cats-cnn-65-1.9833.hdf5\n",
            "1000/1000 [==============================] - 12s 12ms/step - loss: 1.4862 - accuracy: 0.5790 - val_loss: 1.9833 - val_accuracy: 0.4818\n",
            "Epoch 66/300\n",
            " 996/1000 [============================>.] - ETA: 0s - loss: 1.4742 - accuracy: 0.5821\n",
            "Epoch 00066: val_loss did not improve from 1.98325\n",
            "1000/1000 [==============================] - 12s 12ms/step - loss: 1.4745 - accuracy: 0.5821 - val_loss: 1.9910 - val_accuracy: 0.4844\n",
            "Epoch 67/300\n",
            " 998/1000 [============================>.] - ETA: 0s - loss: 1.4635 - accuracy: 0.5843\n",
            "Epoch 00067: val_loss did not improve from 1.98325\n",
            "1000/1000 [==============================] - 12s 12ms/step - loss: 1.4633 - accuracy: 0.5844 - val_loss: 1.9876 - val_accuracy: 0.4870\n",
            "Epoch 68/300\n",
            " 999/1000 [============================>.] - ETA: 0s - loss: 1.4358 - accuracy: 0.5916\n",
            "Epoch 00068: val_loss did not improve from 1.98325\n",
            "1000/1000 [==============================] - 12s 12ms/step - loss: 1.4361 - accuracy: 0.5917 - val_loss: 2.0027 - val_accuracy: 0.4818\n",
            "Epoch 69/300\n",
            " 998/1000 [============================>.] - ETA: 0s - loss: 1.4244 - accuracy: 0.5905\n",
            "Epoch 00069: val_loss did not improve from 1.98325\n",
            "1000/1000 [==============================] - 12s 12ms/step - loss: 1.4246 - accuracy: 0.5906 - val_loss: 1.9851 - val_accuracy: 0.4895\n",
            "Epoch 70/300\n",
            " 998/1000 [============================>.] - ETA: 0s - loss: 1.4207 - accuracy: 0.5926\n",
            "Epoch 00070: val_loss improved from 1.98325 to 1.98114, saving model to model/dogs_vs_cats-cnn-70-1.9811.hdf5\n",
            "1000/1000 [==============================] - 12s 12ms/step - loss: 1.4208 - accuracy: 0.5926 - val_loss: 1.9811 - val_accuracy: 0.4856\n",
            "Epoch 71/300\n",
            "1000/1000 [==============================] - ETA: 0s - loss: 1.4065 - accuracy: 0.5991\n",
            "Epoch 00071: val_loss did not improve from 1.98114\n",
            "1000/1000 [==============================] - 12s 12ms/step - loss: 1.4065 - accuracy: 0.5991 - val_loss: 1.9821 - val_accuracy: 0.4864\n",
            "Epoch 72/300\n",
            " 999/1000 [============================>.] - ETA: 0s - loss: 1.3889 - accuracy: 0.5999\n",
            "Epoch 00072: val_loss improved from 1.98114 to 1.97044, saving model to model/dogs_vs_cats-cnn-72-1.9704.hdf5\n",
            "1000/1000 [==============================] - 12s 12ms/step - loss: 1.3891 - accuracy: 0.5999 - val_loss: 1.9704 - val_accuracy: 0.4948\n",
            "Epoch 73/300\n",
            "1000/1000 [==============================] - ETA: 0s - loss: 1.3796 - accuracy: 0.6045\n",
            "Epoch 00073: val_loss did not improve from 1.97044\n",
            "1000/1000 [==============================] - 12s 12ms/step - loss: 1.3796 - accuracy: 0.6045 - val_loss: 1.9815 - val_accuracy: 0.4879\n",
            "Epoch 74/300\n",
            " 997/1000 [============================>.] - ETA: 0s - loss: 1.3607 - accuracy: 0.6075\n",
            "Epoch 00074: val_loss did not improve from 1.97044\n",
            "1000/1000 [==============================] - 12s 12ms/step - loss: 1.3609 - accuracy: 0.6075 - val_loss: 1.9884 - val_accuracy: 0.4889\n",
            "Epoch 75/300\n",
            " 996/1000 [============================>.] - ETA: 0s - loss: 1.3638 - accuracy: 0.6094\n",
            "Epoch 00075: val_loss did not improve from 1.97044\n",
            "1000/1000 [==============================] - 12s 12ms/step - loss: 1.3635 - accuracy: 0.6096 - val_loss: 1.9804 - val_accuracy: 0.4902\n",
            "Epoch 76/300\n",
            " 996/1000 [============================>.] - ETA: 0s - loss: 1.3441 - accuracy: 0.6102\n",
            "Epoch 00076: val_loss did not improve from 1.97044\n",
            "1000/1000 [==============================] - 12s 12ms/step - loss: 1.3444 - accuracy: 0.6101 - val_loss: 1.9854 - val_accuracy: 0.4932\n",
            "Epoch 77/300\n",
            " 996/1000 [============================>.] - ETA: 0s - loss: 1.3360 - accuracy: 0.6122\n",
            "Epoch 00077: val_loss did not improve from 1.97044\n",
            "1000/1000 [==============================] - 12s 12ms/step - loss: 1.3364 - accuracy: 0.6120 - val_loss: 2.0025 - val_accuracy: 0.4855\n",
            "Epoch 78/300\n",
            " 996/1000 [============================>.] - ETA: 0s - loss: 1.3270 - accuracy: 0.6156\n",
            "Epoch 00078: val_loss did not improve from 1.97044\n",
            "1000/1000 [==============================] - 12s 12ms/step - loss: 1.3267 - accuracy: 0.6156 - val_loss: 1.9886 - val_accuracy: 0.4927\n",
            "Epoch 79/300\n",
            " 996/1000 [============================>.] - ETA: 0s - loss: 1.3105 - accuracy: 0.6212\n",
            "Epoch 00079: val_loss did not improve from 1.97044\n",
            "1000/1000 [==============================] - 12s 12ms/step - loss: 1.3106 - accuracy: 0.6212 - val_loss: 1.9758 - val_accuracy: 0.4912\n",
            "Epoch 80/300\n",
            " 997/1000 [============================>.] - ETA: 0s - loss: 1.3037 - accuracy: 0.6234\n",
            "Epoch 00080: val_loss did not improve from 1.97044\n",
            "1000/1000 [==============================] - 12s 12ms/step - loss: 1.3040 - accuracy: 0.6233 - val_loss: 1.9833 - val_accuracy: 0.4895\n",
            "Epoch 81/300\n",
            " 996/1000 [============================>.] - ETA: 0s - loss: 1.2904 - accuracy: 0.6255\n",
            "Epoch 00081: val_loss did not improve from 1.97044\n",
            "1000/1000 [==============================] - 12s 12ms/step - loss: 1.2904 - accuracy: 0.6256 - val_loss: 1.9751 - val_accuracy: 0.4906\n",
            "Epoch 82/300\n",
            " 997/1000 [============================>.] - ETA: 0s - loss: 1.2768 - accuracy: 0.6279\n",
            "Epoch 00082: val_loss did not improve from 1.97044\n",
            "1000/1000 [==============================] - 12s 12ms/step - loss: 1.2769 - accuracy: 0.6278 - val_loss: 1.9932 - val_accuracy: 0.4938\n",
            "Epoch 83/300\n",
            "1000/1000 [==============================] - ETA: 0s - loss: 1.2618 - accuracy: 0.6308\n",
            "Epoch 00083: val_loss did not improve from 1.97044\n",
            "1000/1000 [==============================] - 12s 12ms/step - loss: 1.2618 - accuracy: 0.6308 - val_loss: 1.9859 - val_accuracy: 0.4951\n",
            "Epoch 84/300\n",
            " 996/1000 [============================>.] - ETA: 0s - loss: 1.2628 - accuracy: 0.6282\n",
            "Epoch 00084: val_loss did not improve from 1.97044\n",
            "1000/1000 [==============================] - 12s 12ms/step - loss: 1.2629 - accuracy: 0.6282 - val_loss: 1.9888 - val_accuracy: 0.4976\n",
            "Epoch 85/300\n",
            " 996/1000 [============================>.] - ETA: 0s - loss: 1.2566 - accuracy: 0.6319\n",
            "Epoch 00085: val_loss did not improve from 1.97044\n",
            "1000/1000 [==============================] - 12s 12ms/step - loss: 1.2568 - accuracy: 0.6319 - val_loss: 1.9826 - val_accuracy: 0.4938\n",
            "Epoch 86/300\n",
            " 999/1000 [============================>.] - ETA: 0s - loss: 1.2423 - accuracy: 0.6379\n",
            "Epoch 00086: val_loss did not improve from 1.97044\n",
            "1000/1000 [==============================] - 12s 12ms/step - loss: 1.2422 - accuracy: 0.6380 - val_loss: 1.9881 - val_accuracy: 0.4985\n",
            "Epoch 87/300\n",
            " 999/1000 [============================>.] - ETA: 0s - loss: 1.2263 - accuracy: 0.6387\n",
            "Epoch 00087: val_loss did not improve from 1.97044\n",
            "1000/1000 [==============================] - 12s 12ms/step - loss: 1.2263 - accuracy: 0.6387 - val_loss: 2.0056 - val_accuracy: 0.4956\n",
            "Epoch 88/300\n",
            "1000/1000 [==============================] - ETA: 0s - loss: 1.2134 - accuracy: 0.6431\n",
            "Epoch 00088: val_loss did not improve from 1.97044\n",
            "1000/1000 [==============================] - 12s 12ms/step - loss: 1.2134 - accuracy: 0.6431 - val_loss: 1.9884 - val_accuracy: 0.4958\n",
            "Epoch 89/300\n",
            " 996/1000 [============================>.] - ETA: 0s - loss: 1.2083 - accuracy: 0.6439\n",
            "Epoch 00089: val_loss did not improve from 1.97044\n",
            "1000/1000 [==============================] - 12s 12ms/step - loss: 1.2084 - accuracy: 0.6440 - val_loss: 1.9899 - val_accuracy: 0.4964\n",
            "Epoch 90/300\n",
            " 997/1000 [============================>.] - ETA: 0s - loss: 1.2046 - accuracy: 0.6437\n",
            "Epoch 00090: val_loss did not improve from 1.97044\n",
            "1000/1000 [==============================] - 12s 12ms/step - loss: 1.2044 - accuracy: 0.6437 - val_loss: 2.0055 - val_accuracy: 0.4942\n",
            "Epoch 91/300\n",
            " 996/1000 [============================>.] - ETA: 0s - loss: 1.1856 - accuracy: 0.6508\n",
            "Epoch 00091: val_loss did not improve from 1.97044\n",
            "1000/1000 [==============================] - 12s 12ms/step - loss: 1.1856 - accuracy: 0.6508 - val_loss: 1.9837 - val_accuracy: 0.4948\n",
            "Epoch 92/300\n",
            "1000/1000 [==============================] - ETA: 0s - loss: 1.1844 - accuracy: 0.6500\n",
            "Epoch 00092: val_loss did not improve from 1.97044\n",
            "1000/1000 [==============================] - 12s 12ms/step - loss: 1.1844 - accuracy: 0.6500 - val_loss: 1.9943 - val_accuracy: 0.4956\n"
          ],
          "name": "stdout"
        }
      ]
    },
    {
      "cell_type": "code",
      "metadata": {
        "id": "bKkM-quewoUV",
        "colab_type": "code",
        "colab": {}
      },
      "source": [
        "from tensorflow.keras.models import load_model\n",
        "model_1 = load_model('model/dogs_vs_cats-cnn-72-1.9704.hdf5')"
      ],
      "execution_count": 35,
      "outputs": []
    },
    {
      "cell_type": "code",
      "metadata": {
        "id": "hqAwHAI64sbB",
        "colab_type": "code",
        "colab": {
          "base_uri": "https://localhost:8080/",
          "height": 53
        },
        "outputId": "b3176e5b-6fe3-4223-b9a6-d3ea9989ef1f"
      },
      "source": [
        "scores = model_1.evaluate(X_test, Y_test, verbose=1)\n",
        "print('MODEL ACCURACY: %.5f' % scores[1])"
      ],
      "execution_count": 36,
      "outputs": [
        {
          "output_type": "stream",
          "text": [
            "313/313 [==============================] - 2s 5ms/step - loss: 1.9704 - accuracy: 0.4948\n",
            "MODEL ACCURACY: 0.49480\n"
          ],
          "name": "stdout"
        }
      ]
    },
    {
      "cell_type": "code",
      "metadata": {
        "id": "qLmy1pA84v2u",
        "colab_type": "code",
        "colab": {}
      },
      "source": [
        "# 테스트셋\n",
        "y_vloss = history.history['val_loss']\n",
        "y_vacc = history.history['val_accuracy']\n",
        "# 학습셋\n",
        "y_loss = history.history['loss']\n",
        "y_acc = history.history['accuracy']"
      ],
      "execution_count": 37,
      "outputs": []
    },
    {
      "cell_type": "code",
      "metadata": {
        "id": "xRoBokOp41P2",
        "colab_type": "code",
        "colab": {
          "base_uri": "https://localhost:8080/",
          "height": 497
        },
        "outputId": "9c401966-5ea0-4a95-d281-d7ad9e6f0f08"
      },
      "source": [
        "# 그래프로 표현\n",
        "x_len = np.arange(1, len(y_loss)+1)\n",
        "fig, ax0 = plt.subplots(figsize=(10,8))\n",
        "ax1 = ax0.twinx()\n",
        "ax0.plot(x_len, y_loss, c=\"blue\", label='Trainset_loss')\n",
        "ax0.plot(x_len, y_vloss, c=\"red\", label='Testset_loss')\n",
        "ax0.set_ylabel('loss')\n",
        "ax1.plot(x_len, y_acc, c=\"darkgreen\", label='Trainset_acc')\n",
        "ax1.plot(x_len, y_vacc, c=\"magenta\", label='Testset_acc')\n",
        "ax1.set_ylabel('accuracy')\n",
        "ax0.set_xlabel('epoch')\n",
        "ax0.legend(loc='upper center')\n",
        "ax1.legend(loc='lower center')\n",
        "plt.show()"
      ],
      "execution_count": 38,
      "outputs": [
        {
          "output_type": "display_data",
          "data": {
            "image/png": "[encoded data removed]",
            "text/plain": [
              "<Figure size 720x576 with 2 Axes>"
            ]
          },
          "metadata": {
            "tags": [],
            "needs_background": "light"
          }
        }
      ]
    }
  ]
}